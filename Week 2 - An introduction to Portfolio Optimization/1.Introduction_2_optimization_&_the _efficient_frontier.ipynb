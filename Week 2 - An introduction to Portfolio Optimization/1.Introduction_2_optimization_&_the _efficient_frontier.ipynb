{
 "cells": [
  {
   "cell_type": "markdown",
   "metadata": {},
   "source": [
    "# <a id='toc1_'></a>[Introduction to Optimization and The Efficient Frontier](#toc0_)\n",
    "2nd week, 1st section, Introduction to Portfolio Construction and Analysis with Python.\n",
    "Vijay Vaidyanathan & Lionel Martellini.  \n",
    "Notes and code written by Benoît MARION."
   ]
  },
  {
   "attachments": {},
   "cell_type": "markdown",
   "metadata": {},
   "source": [
    "**Table of contents**<a id='toc0_'></a>    \n",
    "- [Introduction to Optimization and The Efficient Frontier](#toc1_)    \n",
    "  - [Lecture 1 - The only free lunch in finance](#toc1_1_)    \n",
    "  - [Lecture 2 - Markowitz Optimization and the Efficient Frontier](#toc1_2_)    \n",
    "  - [Lecture 3 - Applying Quadprog to draw the efficient frontier](#toc1_3_)    \n",
    "  - [Lab 1 - Intro to the Efficient Frontier 2](#toc1_4_)    \n",
    "    - [Importing our toolkit and the data.](#toc1_4_1_)    \n",
    "    - [Applying the past functions to this new dataset](#toc1_4_2_)    \n",
    "    - [Efficient frontier - beginning](#toc1_4_3_)    \n",
    "  - [Lab 2 - Intro to the Efficient Frontier 2](#toc1_5_)    \n",
    "    - [Importing our toolkit and the data.](#toc1_5_1_)    \n",
    "    - [Obtaining the return & coviance of a portfolio](#toc1_5_2_)    \n",
    "    - [Two asset frontier](#toc1_5_3_)    \n",
    "  - [Lab 3 - Quadprog to draw the efficient frontier](#toc1_6_)    \n",
    "    - [Importing our toolkit and the data.](#toc1_6_1_)    \n",
    "    - [Creating a minimizing function for a given level of return](#toc1_6_2_)    \n",
    "    - [Applying it to the plotting function and getting the optimized weights in the N-asset scenario](#toc1_6_3_)  \n",
    "\n",
    "<!-- vscode-jupyter-toc-config\n",
    "\tnumbering=false\n",
    "\tanchor=true\n",
    "\tflat=false\n",
    "\tminLevel=1\n",
    "\tmaxLevel=6\n",
    "\t/vscode-jupyter-toc-config -->\n",
    "<!-- THIS CELL WILL BE REPLACED ON TOC UPDATE. DO NOT WRITE YOUR TEXT IN THIS CELL -->"
   ]
  },
  {
   "cell_type": "markdown",
   "metadata": {},
   "source": [
    "## <a id='toc1_1_'></a>[Lecture 1 - The only free lunch in finance](#toc0_)\n",
    "The objective of this class is to understand the behaviour of a portfolio which a combination of different assets. \n",
    "The return is simply the weighted average of the returns of the differents assets, but the volatility depends also on the correlation of the two assets:\n",
    "$$ R(w_a,w_b)=w_a \\times R_a + w_b \\times R_b $$\n",
    "$$ \\sigma^2(w_a,w_b)=\\sigma^2_a w_a^2 + \\sigma^2_b w_b^2 +2w_aw_b\\sigma_a \\sigma_b \\rho_{a,b} $$\n",
    "  \n",
    "The consequence of this is that a combination of two assets might be of a lower risk that both of them if they are not perfectly corelated, but with higher returns than one of them. The objective behind portfolio construction is to allocate between asset to obtain this smallest risk due to unperfect correlation while maximizing returs.\n",
    "  \n",
    "Portfolio managers of refer as this statement the \"only free lunch in whole finance\"."
   ]
  },
  {
   "cell_type": "markdown",
   "metadata": {},
   "source": [
    "## <a id='toc1_2_'></a>[Lecture 2 - Markowitz Optimization and the Efficient Frontier](#toc0_)\n",
    "\n",
    "By adding a third asset, the space of the possible combinations shifts from a curve to a region (area) representing the different weights allocated to each asset. This allow us to obtain new risk-reward combination and a whole set of possible portfolios.\n",
    "\n",
    "The area made by the combination of different assets has an edge which can be defined as the efficient frontier. It is the curve where a rational investor can't change its portfolio except by having higher volatility or lower returns.\n",
    "\n",
    "The objective of portfolio construction is to be on this efficient frontier to maximize utility, but it is harder in practice than one may think."
   ]
  },
  {
   "cell_type": "markdown",
   "metadata": {},
   "source": [
    "## <a id='toc1_3_'></a>[Lecture 3 - Applying Quadprog to draw the efficient frontier](#toc0_)\n",
    "To obtain the region of possible combinations and the frontier, we have to use an optimizer that takes returns and volatility as an input. \n",
    "More precisely the optimizer minimizes the variance of the portfolio for a given level of returns (with positive weights adding up to 1). So it will give us the differents weighted portfolios on the efficient frontier.\n"
   ]
  },
  {
   "cell_type": "markdown",
   "metadata": {},
   "source": [
    "## <a id='toc1_4_'></a>[Lab 1 - Intro to the Efficient Frontier 2](#toc0_)"
   ]
  },
  {
   "cell_type": "markdown",
   "metadata": {},
   "source": [
    "### <a id='toc1_4_1_'></a>[Importing our toolkit and the data.](#toc0_)"
   ]
  },
  {
   "cell_type": "code",
   "execution_count": 1,
   "metadata": {},
   "outputs": [],
   "source": [
    "import add_doc_path"
   ]
  },
  {
   "cell_type": "code",
   "execution_count": 4,
   "metadata": {},
   "outputs": [
    {
     "data": {
      "text/html": [
       "<div>\n",
       "<style scoped>\n",
       "    .dataframe tbody tr th:only-of-type {\n",
       "        vertical-align: middle;\n",
       "    }\n",
       "\n",
       "    .dataframe tbody tr th {\n",
       "        vertical-align: top;\n",
       "    }\n",
       "\n",
       "    .dataframe thead th {\n",
       "        text-align: right;\n",
       "    }\n",
       "</style>\n",
       "<table border=\"1\" class=\"dataframe\">\n",
       "  <thead>\n",
       "    <tr style=\"text-align: right;\">\n",
       "      <th></th>\n",
       "      <th>Food</th>\n",
       "      <th>Beer</th>\n",
       "      <th>Smoke</th>\n",
       "      <th>Games</th>\n",
       "      <th>Books</th>\n",
       "      <th>Hshld</th>\n",
       "      <th>Clths</th>\n",
       "      <th>Hlth</th>\n",
       "      <th>Chems</th>\n",
       "      <th>Txtls</th>\n",
       "      <th>...</th>\n",
       "      <th>Telcm</th>\n",
       "      <th>Servs</th>\n",
       "      <th>BusEq</th>\n",
       "      <th>Paper</th>\n",
       "      <th>Trans</th>\n",
       "      <th>Whlsl</th>\n",
       "      <th>Rtail</th>\n",
       "      <th>Meals</th>\n",
       "      <th>Fin</th>\n",
       "      <th>Other</th>\n",
       "    </tr>\n",
       "  </thead>\n",
       "  <tbody>\n",
       "    <tr>\n",
       "      <th>1926-07</th>\n",
       "      <td>0.0056</td>\n",
       "      <td>-0.0519</td>\n",
       "      <td>0.0129</td>\n",
       "      <td>0.0293</td>\n",
       "      <td>0.1097</td>\n",
       "      <td>-0.0048</td>\n",
       "      <td>0.0808</td>\n",
       "      <td>0.0177</td>\n",
       "      <td>0.0814</td>\n",
       "      <td>0.0039</td>\n",
       "      <td>...</td>\n",
       "      <td>0.0083</td>\n",
       "      <td>0.0922</td>\n",
       "      <td>0.0206</td>\n",
       "      <td>0.0770</td>\n",
       "      <td>0.0193</td>\n",
       "      <td>-0.2379</td>\n",
       "      <td>0.0007</td>\n",
       "      <td>0.0187</td>\n",
       "      <td>0.0037</td>\n",
       "      <td>0.0520</td>\n",
       "    </tr>\n",
       "    <tr>\n",
       "      <th>1926-08</th>\n",
       "      <td>0.0259</td>\n",
       "      <td>0.2703</td>\n",
       "      <td>0.0650</td>\n",
       "      <td>0.0055</td>\n",
       "      <td>0.1001</td>\n",
       "      <td>-0.0358</td>\n",
       "      <td>-0.0251</td>\n",
       "      <td>0.0425</td>\n",
       "      <td>0.0550</td>\n",
       "      <td>0.0814</td>\n",
       "      <td>...</td>\n",
       "      <td>0.0217</td>\n",
       "      <td>0.0202</td>\n",
       "      <td>0.0439</td>\n",
       "      <td>-0.0238</td>\n",
       "      <td>0.0488</td>\n",
       "      <td>0.0539</td>\n",
       "      <td>-0.0075</td>\n",
       "      <td>-0.0013</td>\n",
       "      <td>0.0446</td>\n",
       "      <td>0.0676</td>\n",
       "    </tr>\n",
       "    <tr>\n",
       "      <th>1926-09</th>\n",
       "      <td>0.0116</td>\n",
       "      <td>0.0402</td>\n",
       "      <td>0.0126</td>\n",
       "      <td>0.0658</td>\n",
       "      <td>-0.0099</td>\n",
       "      <td>0.0073</td>\n",
       "      <td>-0.0051</td>\n",
       "      <td>0.0069</td>\n",
       "      <td>0.0533</td>\n",
       "      <td>0.0231</td>\n",
       "      <td>...</td>\n",
       "      <td>0.0241</td>\n",
       "      <td>0.0225</td>\n",
       "      <td>0.0019</td>\n",
       "      <td>-0.0554</td>\n",
       "      <td>0.0005</td>\n",
       "      <td>-0.0787</td>\n",
       "      <td>0.0025</td>\n",
       "      <td>-0.0056</td>\n",
       "      <td>-0.0123</td>\n",
       "      <td>-0.0386</td>\n",
       "    </tr>\n",
       "    <tr>\n",
       "      <th>1926-10</th>\n",
       "      <td>-0.0306</td>\n",
       "      <td>-0.0331</td>\n",
       "      <td>0.0106</td>\n",
       "      <td>-0.0476</td>\n",
       "      <td>0.0947</td>\n",
       "      <td>-0.0468</td>\n",
       "      <td>0.0012</td>\n",
       "      <td>-0.0057</td>\n",
       "      <td>-0.0476</td>\n",
       "      <td>0.0100</td>\n",
       "      <td>...</td>\n",
       "      <td>-0.0011</td>\n",
       "      <td>-0.0200</td>\n",
       "      <td>-0.0109</td>\n",
       "      <td>-0.0508</td>\n",
       "      <td>-0.0264</td>\n",
       "      <td>-0.1538</td>\n",
       "      <td>-0.0220</td>\n",
       "      <td>-0.0411</td>\n",
       "      <td>-0.0516</td>\n",
       "      <td>-0.0849</td>\n",
       "    </tr>\n",
       "    <tr>\n",
       "      <th>1926-11</th>\n",
       "      <td>0.0635</td>\n",
       "      <td>0.0729</td>\n",
       "      <td>0.0455</td>\n",
       "      <td>0.0166</td>\n",
       "      <td>-0.0580</td>\n",
       "      <td>-0.0054</td>\n",
       "      <td>0.0187</td>\n",
       "      <td>0.0542</td>\n",
       "      <td>0.0520</td>\n",
       "      <td>0.0311</td>\n",
       "      <td>...</td>\n",
       "      <td>0.0163</td>\n",
       "      <td>0.0377</td>\n",
       "      <td>0.0364</td>\n",
       "      <td>0.0384</td>\n",
       "      <td>0.0160</td>\n",
       "      <td>0.0467</td>\n",
       "      <td>0.0652</td>\n",
       "      <td>0.0433</td>\n",
       "      <td>0.0224</td>\n",
       "      <td>0.0400</td>\n",
       "    </tr>\n",
       "  </tbody>\n",
       "</table>\n",
       "<p>5 rows × 30 columns</p>\n",
       "</div>"
      ],
      "text/plain": [
       "           Food    Beer   Smoke   Games   Books   Hshld   Clths    Hlth  \\\n",
       "1926-07  0.0056 -0.0519  0.0129  0.0293  0.1097 -0.0048  0.0808  0.0177   \n",
       "1926-08  0.0259  0.2703  0.0650  0.0055  0.1001 -0.0358 -0.0251  0.0425   \n",
       "1926-09  0.0116  0.0402  0.0126  0.0658 -0.0099  0.0073 -0.0051  0.0069   \n",
       "1926-10 -0.0306 -0.0331  0.0106 -0.0476  0.0947 -0.0468  0.0012 -0.0057   \n",
       "1926-11  0.0635  0.0729  0.0455  0.0166 -0.0580 -0.0054  0.0187  0.0542   \n",
       "\n",
       "          Chems   Txtls  ...   Telcm   Servs   BusEq   Paper   Trans   Whlsl  \\\n",
       "1926-07  0.0814  0.0039  ...  0.0083  0.0922  0.0206  0.0770  0.0193 -0.2379   \n",
       "1926-08  0.0550  0.0814  ...  0.0217  0.0202  0.0439 -0.0238  0.0488  0.0539   \n",
       "1926-09  0.0533  0.0231  ...  0.0241  0.0225  0.0019 -0.0554  0.0005 -0.0787   \n",
       "1926-10 -0.0476  0.0100  ... -0.0011 -0.0200 -0.0109 -0.0508 -0.0264 -0.1538   \n",
       "1926-11  0.0520  0.0311  ...  0.0163  0.0377  0.0364  0.0384  0.0160  0.0467   \n",
       "\n",
       "          Rtail   Meals     Fin   Other  \n",
       "1926-07  0.0007  0.0187  0.0037  0.0520  \n",
       "1926-08 -0.0075 -0.0013  0.0446  0.0676  \n",
       "1926-09  0.0025 -0.0056 -0.0123 -0.0386  \n",
       "1926-10 -0.0220 -0.0411 -0.0516 -0.0849  \n",
       "1926-11  0.0652  0.0433  0.0224  0.0400  \n",
       "\n",
       "[5 rows x 30 columns]"
      ]
     },
     "execution_count": 4,
     "metadata": {},
     "output_type": "execute_result"
    }
   ],
   "source": [
    "import pandas as pd\n",
    "ind=pd.read_csv(\"https://raw.githubusercontent.com/z4ir3/finance-courses/master/data/ind30_m_vw_rets.csv\",\n",
    "              header=0, index_col=0, parse_dates=True)/100\n",
    "ind.index= pd.to_datetime(ind.index, format=\"%Y%m\").to_period()\n",
    "ind.columns=ind.columns.str.strip()\n",
    "#ind.to_csv(\"~/Desktop/ind30_m_vw_rets.csv\")\n",
    "ind.head()"
   ]
  },
  {
   "cell_type": "code",
   "execution_count": 2,
   "metadata": {},
   "outputs": [],
   "source": [
    "import finance_pkg.Edhec_risk_kit as erk\n",
    "ind=erk.get_ind_returns()"
   ]
  },
  {
   "cell_type": "markdown",
   "metadata": {},
   "source": [
    "### <a id='toc1_4_2_'></a>[Applying the past functions to this new dataset](#toc0_)"
   ]
  },
  {
   "attachments": {},
   "cell_type": "markdown",
   "metadata": {},
   "source": [
    "We should be able to use all our old functions on this new dataset, let's check that:"
   ]
  },
  {
   "cell_type": "code",
   "execution_count": 3,
   "metadata": {},
   "outputs": [
    {
     "data": {
      "text/plain": [
       "<AxesSubplot: >"
      ]
     },
     "execution_count": 3,
     "metadata": {},
     "output_type": "execute_result"
    },
    {
     "data": {
      "image/png": "[encoded data removed]",
      "text/plain": [
       "<Figure size 1200x600 with 1 Axes>"
      ]
     },
     "metadata": {},
     "output_type": "display_data"
    }
   ],
   "source": [
    "erk.drawdowns(ind['Food'])['drawdowns'].plot.line(figsize=(12,6))"
   ]
  },
  {
   "cell_type": "code",
   "execution_count": 8,
   "metadata": {},
   "outputs": [
    {
     "data": {
      "text/plain": [
       "Carry    0.094527\n",
       "Meals    0.098403\n",
       "BusEq    0.099377\n",
       "Games    0.100701\n",
       "Mines    0.102782\n",
       "dtype: float64"
      ]
     },
     "execution_count": 8,
     "metadata": {},
     "output_type": "execute_result"
    }
   ],
   "source": [
    "erk.var_gaussian(ind, modified=True).sort_values().tail()"
   ]
  },
  {
   "cell_type": "code",
   "execution_count": 9,
   "metadata": {},
   "outputs": [
    {
     "data": {
      "text/plain": [
       "Beer     0.033881\n",
       "Coal     0.047359\n",
       "Food     0.061207\n",
       "Telcm    0.064719\n",
       "Hshld    0.064886\n",
       "dtype: float64"
      ]
     },
     "execution_count": 9,
     "metadata": {},
     "output_type": "execute_result"
    }
   ],
   "source": [
    "erk.var_gaussian(ind, modified=True).sort_values().head()"
   ]
  },
  {
   "cell_type": "code",
   "execution_count": 4,
   "metadata": {},
   "outputs": [
    {
     "data": {
      "text/plain": [
       "<AxesSubplot: >"
      ]
     },
     "execution_count": 4,
     "metadata": {},
     "output_type": "execute_result"
    },
    {
     "data": {
      "image/png": "[encoded data removed]",
      "text/plain": [
       "<Figure size 640x480 with 1 Axes>"
      ]
     },
     "metadata": {},
     "output_type": "display_data"
    }
   ],
   "source": [
    "erk.var_gaussian(ind, modified=True).sort_values().plot.bar()"
   ]
  },
  {
   "cell_type": "code",
   "execution_count": 14,
   "metadata": {},
   "outputs": [
    {
     "data": {
      "text/plain": [
       "<AxesSubplot: title={'center': 'Industry Sharpe Ratios (1926-2018)'}>"
      ]
     },
     "execution_count": 14,
     "metadata": {},
     "output_type": "execute_result"
    },
    {
     "data": {
      "image/png": "[encoded data removed]",
      "text/plain": [
       "<Figure size 640x480 with 1 Axes>"
      ]
     },
     "metadata": {},
     "output_type": "display_data"
    }
   ],
   "source": [
    "erk.sharpe_ratio(ind, riskfree_rate=0.03,periods_per_year=12).sort_values().plot.bar(title=\"Industry Sharpe Ratios (1926-2018)\", color=\"green\")"
   ]
  },
  {
   "cell_type": "code",
   "execution_count": 16,
   "metadata": {},
   "outputs": [
    {
     "data": {
      "text/plain": [
       "<AxesSubplot: title={'center': 'Industry Sharpe Ratios (2000-2018)'}>"
      ]
     },
     "execution_count": 16,
     "metadata": {},
     "output_type": "execute_result"
    },
    {
     "data": {
      "image/png": "[encoded data removed]",
      "text/plain": [
       "<Figure size 1200x500 with 1 Axes>"
      ]
     },
     "metadata": {},
     "output_type": "display_data"
    }
   ],
   "source": [
    "erk.sharpe_ratio(ind[\"2000\":], riskfree_rate=0.03,periods_per_year=12).sort_values().plot.bar(title=\"Industry Sharpe Ratios (2000-2018)\", figsize=(12,5),color=\"goldenrod\")"
   ]
  },
  {
   "cell_type": "markdown",
   "metadata": {},
   "source": [
    "### <a id='toc1_4_3_'></a>[Efficient frontier - beginning](#toc0_)"
   ]
  },
  {
   "attachments": {},
   "cell_type": "markdown",
   "metadata": {},
   "source": [
    "To obtain the efficient frontier, we need to have the expected volatility, return and covariance. As we don't know how to forecast we will do an in-sample exercise: computing the efficent frontier in the past."
   ]
  },
  {
   "cell_type": "code",
   "execution_count": 24,
   "metadata": {},
   "outputs": [
    {
     "data": {
      "text/plain": [
       "<AxesSubplot: >"
      ]
     },
     "execution_count": 24,
     "metadata": {},
     "output_type": "execute_result"
    },
    {
     "data": {
      "image/png": "[encoded data removed]",
      "text/plain": [
       "<Figure size 640x480 with 1 Axes>"
      ]
     },
     "metadata": {},
     "output_type": "display_data"
    }
   ],
   "source": [
    "er=erk.annualize_rets(ind[\"1995\":\"2000\"],12)\n",
    "er.sort_values().plot.bar()"
   ]
  },
  {
   "cell_type": "code",
   "execution_count": 26,
   "metadata": {},
   "outputs": [
    {
     "data": {
      "text/html": [
       "<div>\n",
       "<style scoped>\n",
       "    .dataframe tbody tr th:only-of-type {\n",
       "        vertical-align: middle;\n",
       "    }\n",
       "\n",
       "    .dataframe tbody tr th {\n",
       "        vertical-align: top;\n",
       "    }\n",
       "\n",
       "    .dataframe thead th {\n",
       "        text-align: right;\n",
       "    }\n",
       "</style>\n",
       "<table border=\"1\" class=\"dataframe\">\n",
       "  <thead>\n",
       "    <tr style=\"text-align: right;\">\n",
       "      <th></th>\n",
       "      <th>Food</th>\n",
       "      <th>Beer</th>\n",
       "      <th>Smoke</th>\n",
       "      <th>Games</th>\n",
       "      <th>Books</th>\n",
       "      <th>Hshld</th>\n",
       "      <th>Clths</th>\n",
       "      <th>Hlth</th>\n",
       "      <th>Chems</th>\n",
       "      <th>Txtls</th>\n",
       "      <th>...</th>\n",
       "      <th>Telcm</th>\n",
       "      <th>Servs</th>\n",
       "      <th>BusEq</th>\n",
       "      <th>Paper</th>\n",
       "      <th>Trans</th>\n",
       "      <th>Whlsl</th>\n",
       "      <th>Rtail</th>\n",
       "      <th>Meals</th>\n",
       "      <th>Fin</th>\n",
       "      <th>Other</th>\n",
       "    </tr>\n",
       "  </thead>\n",
       "  <tbody>\n",
       "    <tr>\n",
       "      <th>Food</th>\n",
       "      <td>0.002287</td>\n",
       "      <td>0.002077</td>\n",
       "      <td>0.001757</td>\n",
       "      <td>0.000701</td>\n",
       "      <td>0.000886</td>\n",
       "      <td>0.001208</td>\n",
       "      <td>0.001474</td>\n",
       "      <td>0.001105</td>\n",
       "      <td>0.001253</td>\n",
       "      <td>0.001021</td>\n",
       "      <td>...</td>\n",
       "      <td>0.000610</td>\n",
       "      <td>0.000211</td>\n",
       "      <td>-0.000280</td>\n",
       "      <td>0.001205</td>\n",
       "      <td>0.001312</td>\n",
       "      <td>0.000633</td>\n",
       "      <td>0.001165</td>\n",
       "      <td>0.001085</td>\n",
       "      <td>0.001839</td>\n",
       "      <td>0.000898</td>\n",
       "    </tr>\n",
       "    <tr>\n",
       "      <th>Beer</th>\n",
       "      <td>0.002077</td>\n",
       "      <td>0.004599</td>\n",
       "      <td>0.001143</td>\n",
       "      <td>0.001147</td>\n",
       "      <td>0.000765</td>\n",
       "      <td>0.002447</td>\n",
       "      <td>0.001415</td>\n",
       "      <td>0.001689</td>\n",
       "      <td>0.001292</td>\n",
       "      <td>0.001721</td>\n",
       "      <td>...</td>\n",
       "      <td>0.000978</td>\n",
       "      <td>0.000400</td>\n",
       "      <td>0.000028</td>\n",
       "      <td>0.001455</td>\n",
       "      <td>0.001974</td>\n",
       "      <td>0.000609</td>\n",
       "      <td>0.001442</td>\n",
       "      <td>0.001634</td>\n",
       "      <td>0.002236</td>\n",
       "      <td>0.001196</td>\n",
       "    </tr>\n",
       "    <tr>\n",
       "      <th>Smoke</th>\n",
       "      <td>0.001757</td>\n",
       "      <td>0.001143</td>\n",
       "      <td>0.007130</td>\n",
       "      <td>0.000296</td>\n",
       "      <td>-0.000099</td>\n",
       "      <td>0.000981</td>\n",
       "      <td>0.000761</td>\n",
       "      <td>0.000877</td>\n",
       "      <td>0.000687</td>\n",
       "      <td>0.000555</td>\n",
       "      <td>...</td>\n",
       "      <td>0.000057</td>\n",
       "      <td>-0.000266</td>\n",
       "      <td>-0.000300</td>\n",
       "      <td>0.001061</td>\n",
       "      <td>0.000241</td>\n",
       "      <td>0.001363</td>\n",
       "      <td>0.000069</td>\n",
       "      <td>0.000590</td>\n",
       "      <td>0.001117</td>\n",
       "      <td>0.001418</td>\n",
       "    </tr>\n",
       "    <tr>\n",
       "      <th>Games</th>\n",
       "      <td>0.000701</td>\n",
       "      <td>0.001147</td>\n",
       "      <td>0.000296</td>\n",
       "      <td>0.003271</td>\n",
       "      <td>0.001485</td>\n",
       "      <td>0.001018</td>\n",
       "      <td>0.001814</td>\n",
       "      <td>0.001219</td>\n",
       "      <td>0.001547</td>\n",
       "      <td>0.001291</td>\n",
       "      <td>...</td>\n",
       "      <td>0.001615</td>\n",
       "      <td>0.002399</td>\n",
       "      <td>0.002935</td>\n",
       "      <td>0.001615</td>\n",
       "      <td>0.001438</td>\n",
       "      <td>0.001681</td>\n",
       "      <td>0.001649</td>\n",
       "      <td>0.001383</td>\n",
       "      <td>0.002080</td>\n",
       "      <td>0.002088</td>\n",
       "    </tr>\n",
       "    <tr>\n",
       "      <th>Books</th>\n",
       "      <td>0.000886</td>\n",
       "      <td>0.000765</td>\n",
       "      <td>-0.000099</td>\n",
       "      <td>0.001485</td>\n",
       "      <td>0.002302</td>\n",
       "      <td>0.000876</td>\n",
       "      <td>0.002037</td>\n",
       "      <td>0.000657</td>\n",
       "      <td>0.001559</td>\n",
       "      <td>0.001362</td>\n",
       "      <td>...</td>\n",
       "      <td>0.001627</td>\n",
       "      <td>0.001996</td>\n",
       "      <td>0.001624</td>\n",
       "      <td>0.001481</td>\n",
       "      <td>0.001576</td>\n",
       "      <td>0.001205</td>\n",
       "      <td>0.001995</td>\n",
       "      <td>0.001026</td>\n",
       "      <td>0.001979</td>\n",
       "      <td>0.001283</td>\n",
       "    </tr>\n",
       "    <tr>\n",
       "      <th>Hshld</th>\n",
       "      <td>0.001208</td>\n",
       "      <td>0.002447</td>\n",
       "      <td>0.000981</td>\n",
       "      <td>0.001018</td>\n",
       "      <td>0.000876</td>\n",
       "      <td>0.002849</td>\n",
       "      <td>0.001046</td>\n",
       "      <td>0.001253</td>\n",
       "      <td>0.001226</td>\n",
       "      <td>0.001172</td>\n",
       "      <td>...</td>\n",
       "      <td>0.000889</td>\n",
       "      <td>0.001111</td>\n",
       "      <td>0.000906</td>\n",
       "      <td>0.001594</td>\n",
       "      <td>0.001366</td>\n",
       "      <td>0.000578</td>\n",
       "      <td>0.001157</td>\n",
       "      <td>0.001076</td>\n",
       "      <td>0.001652</td>\n",
       "      <td>0.001322</td>\n",
       "    </tr>\n",
       "    <tr>\n",
       "      <th>Clths</th>\n",
       "      <td>0.001474</td>\n",
       "      <td>0.001415</td>\n",
       "      <td>0.000761</td>\n",
       "      <td>0.001814</td>\n",
       "      <td>0.002037</td>\n",
       "      <td>0.001046</td>\n",
       "      <td>0.004896</td>\n",
       "      <td>0.000759</td>\n",
       "      <td>0.002547</td>\n",
       "      <td>0.002105</td>\n",
       "      <td>...</td>\n",
       "      <td>0.001263</td>\n",
       "      <td>0.001401</td>\n",
       "      <td>0.000746</td>\n",
       "      <td>0.002683</td>\n",
       "      <td>0.002466</td>\n",
       "      <td>0.001654</td>\n",
       "      <td>0.002607</td>\n",
       "      <td>0.002229</td>\n",
       "      <td>0.002699</td>\n",
       "      <td>0.001974</td>\n",
       "    </tr>\n",
       "    <tr>\n",
       "      <th>Hlth</th>\n",
       "      <td>0.001105</td>\n",
       "      <td>0.001689</td>\n",
       "      <td>0.000877</td>\n",
       "      <td>0.001219</td>\n",
       "      <td>0.000657</td>\n",
       "      <td>0.001253</td>\n",
       "      <td>0.000759</td>\n",
       "      <td>0.002252</td>\n",
       "      <td>0.000444</td>\n",
       "      <td>0.000538</td>\n",
       "      <td>...</td>\n",
       "      <td>0.001093</td>\n",
       "      <td>0.001390</td>\n",
       "      <td>0.001264</td>\n",
       "      <td>0.000552</td>\n",
       "      <td>0.000880</td>\n",
       "      <td>0.000907</td>\n",
       "      <td>0.000770</td>\n",
       "      <td>0.000900</td>\n",
       "      <td>0.001412</td>\n",
       "      <td>0.001099</td>\n",
       "    </tr>\n",
       "    <tr>\n",
       "      <th>Chems</th>\n",
       "      <td>0.001253</td>\n",
       "      <td>0.001292</td>\n",
       "      <td>0.000687</td>\n",
       "      <td>0.001547</td>\n",
       "      <td>0.001559</td>\n",
       "      <td>0.001226</td>\n",
       "      <td>0.002547</td>\n",
       "      <td>0.000444</td>\n",
       "      <td>0.002944</td>\n",
       "      <td>0.001705</td>\n",
       "      <td>...</td>\n",
       "      <td>0.000860</td>\n",
       "      <td>0.001072</td>\n",
       "      <td>0.000935</td>\n",
       "      <td>0.002581</td>\n",
       "      <td>0.001966</td>\n",
       "      <td>0.001257</td>\n",
       "      <td>0.001661</td>\n",
       "      <td>0.001425</td>\n",
       "      <td>0.002143</td>\n",
       "      <td>0.001832</td>\n",
       "    </tr>\n",
       "    <tr>\n",
       "      <th>Txtls</th>\n",
       "      <td>0.001021</td>\n",
       "      <td>0.001721</td>\n",
       "      <td>0.000555</td>\n",
       "      <td>0.001291</td>\n",
       "      <td>0.001362</td>\n",
       "      <td>0.001172</td>\n",
       "      <td>0.002105</td>\n",
       "      <td>0.000538</td>\n",
       "      <td>0.001705</td>\n",
       "      <td>0.002882</td>\n",
       "      <td>...</td>\n",
       "      <td>0.000790</td>\n",
       "      <td>0.000582</td>\n",
       "      <td>0.000685</td>\n",
       "      <td>0.001869</td>\n",
       "      <td>0.001760</td>\n",
       "      <td>0.001426</td>\n",
       "      <td>0.001696</td>\n",
       "      <td>0.001126</td>\n",
       "      <td>0.001789</td>\n",
       "      <td>0.001668</td>\n",
       "    </tr>\n",
       "    <tr>\n",
       "      <th>Cnstr</th>\n",
       "      <td>0.001282</td>\n",
       "      <td>0.001945</td>\n",
       "      <td>0.001181</td>\n",
       "      <td>0.001723</td>\n",
       "      <td>0.001531</td>\n",
       "      <td>0.001770</td>\n",
       "      <td>0.002486</td>\n",
       "      <td>0.001217</td>\n",
       "      <td>0.001829</td>\n",
       "      <td>0.001648</td>\n",
       "      <td>...</td>\n",
       "      <td>0.001488</td>\n",
       "      <td>0.002169</td>\n",
       "      <td>0.001968</td>\n",
       "      <td>0.001922</td>\n",
       "      <td>0.002030</td>\n",
       "      <td>0.001453</td>\n",
       "      <td>0.001852</td>\n",
       "      <td>0.001810</td>\n",
       "      <td>0.002331</td>\n",
       "      <td>0.001573</td>\n",
       "    </tr>\n",
       "    <tr>\n",
       "      <th>Steel</th>\n",
       "      <td>0.000027</td>\n",
       "      <td>0.000131</td>\n",
       "      <td>0.000167</td>\n",
       "      <td>0.002670</td>\n",
       "      <td>0.001797</td>\n",
       "      <td>0.001050</td>\n",
       "      <td>0.001702</td>\n",
       "      <td>0.000836</td>\n",
       "      <td>0.002327</td>\n",
       "      <td>0.001321</td>\n",
       "      <td>...</td>\n",
       "      <td>0.001987</td>\n",
       "      <td>0.003934</td>\n",
       "      <td>0.005049</td>\n",
       "      <td>0.002306</td>\n",
       "      <td>0.001528</td>\n",
       "      <td>0.002210</td>\n",
       "      <td>0.001423</td>\n",
       "      <td>0.000553</td>\n",
       "      <td>0.001851</td>\n",
       "      <td>0.003370</td>\n",
       "    </tr>\n",
       "    <tr>\n",
       "      <th>FabPr</th>\n",
       "      <td>0.000613</td>\n",
       "      <td>0.000666</td>\n",
       "      <td>0.000668</td>\n",
       "      <td>0.002498</td>\n",
       "      <td>0.001704</td>\n",
       "      <td>0.001125</td>\n",
       "      <td>0.002430</td>\n",
       "      <td>0.000768</td>\n",
       "      <td>0.002273</td>\n",
       "      <td>0.001576</td>\n",
       "      <td>...</td>\n",
       "      <td>0.001428</td>\n",
       "      <td>0.002647</td>\n",
       "      <td>0.003732</td>\n",
       "      <td>0.002367</td>\n",
       "      <td>0.001949</td>\n",
       "      <td>0.002082</td>\n",
       "      <td>0.001669</td>\n",
       "      <td>0.001507</td>\n",
       "      <td>0.001985</td>\n",
       "      <td>0.002458</td>\n",
       "    </tr>\n",
       "    <tr>\n",
       "      <th>ElcEq</th>\n",
       "      <td>0.001146</td>\n",
       "      <td>0.001107</td>\n",
       "      <td>-0.000013</td>\n",
       "      <td>0.001980</td>\n",
       "      <td>0.002084</td>\n",
       "      <td>0.001426</td>\n",
       "      <td>0.002239</td>\n",
       "      <td>0.001108</td>\n",
       "      <td>0.001560</td>\n",
       "      <td>0.001102</td>\n",
       "      <td>...</td>\n",
       "      <td>0.002058</td>\n",
       "      <td>0.003312</td>\n",
       "      <td>0.002968</td>\n",
       "      <td>0.001540</td>\n",
       "      <td>0.001623</td>\n",
       "      <td>0.001080</td>\n",
       "      <td>0.002326</td>\n",
       "      <td>0.001300</td>\n",
       "      <td>0.002323</td>\n",
       "      <td>0.001556</td>\n",
       "    </tr>\n",
       "    <tr>\n",
       "      <th>Autos</th>\n",
       "      <td>0.000547</td>\n",
       "      <td>0.001296</td>\n",
       "      <td>0.000223</td>\n",
       "      <td>0.001994</td>\n",
       "      <td>0.001550</td>\n",
       "      <td>0.001466</td>\n",
       "      <td>0.002521</td>\n",
       "      <td>0.000851</td>\n",
       "      <td>0.001882</td>\n",
       "      <td>0.001811</td>\n",
       "      <td>...</td>\n",
       "      <td>0.001544</td>\n",
       "      <td>0.001800</td>\n",
       "      <td>0.002273</td>\n",
       "      <td>0.001957</td>\n",
       "      <td>0.001963</td>\n",
       "      <td>0.001543</td>\n",
       "      <td>0.001792</td>\n",
       "      <td>0.001624</td>\n",
       "      <td>0.002226</td>\n",
       "      <td>0.002055</td>\n",
       "    </tr>\n",
       "    <tr>\n",
       "      <th>Carry</th>\n",
       "      <td>0.001419</td>\n",
       "      <td>0.001804</td>\n",
       "      <td>0.001485</td>\n",
       "      <td>0.001644</td>\n",
       "      <td>0.001301</td>\n",
       "      <td>0.001704</td>\n",
       "      <td>0.002873</td>\n",
       "      <td>0.000755</td>\n",
       "      <td>0.002374</td>\n",
       "      <td>0.001842</td>\n",
       "      <td>...</td>\n",
       "      <td>0.000845</td>\n",
       "      <td>0.001082</td>\n",
       "      <td>0.001261</td>\n",
       "      <td>0.002619</td>\n",
       "      <td>0.002232</td>\n",
       "      <td>0.001461</td>\n",
       "      <td>0.001702</td>\n",
       "      <td>0.001868</td>\n",
       "      <td>0.002368</td>\n",
       "      <td>0.002159</td>\n",
       "    </tr>\n",
       "    <tr>\n",
       "      <th>Mines</th>\n",
       "      <td>0.000829</td>\n",
       "      <td>0.000272</td>\n",
       "      <td>0.001311</td>\n",
       "      <td>0.001600</td>\n",
       "      <td>0.001281</td>\n",
       "      <td>0.000598</td>\n",
       "      <td>0.002467</td>\n",
       "      <td>0.001103</td>\n",
       "      <td>0.002345</td>\n",
       "      <td>0.001274</td>\n",
       "      <td>...</td>\n",
       "      <td>0.001456</td>\n",
       "      <td>0.002260</td>\n",
       "      <td>0.002199</td>\n",
       "      <td>0.002562</td>\n",
       "      <td>0.001623</td>\n",
       "      <td>0.001991</td>\n",
       "      <td>0.001537</td>\n",
       "      <td>0.001218</td>\n",
       "      <td>0.001757</td>\n",
       "      <td>0.002606</td>\n",
       "    </tr>\n",
       "    <tr>\n",
       "      <th>Coal</th>\n",
       "      <td>0.000034</td>\n",
       "      <td>0.001261</td>\n",
       "      <td>-0.000544</td>\n",
       "      <td>0.001557</td>\n",
       "      <td>0.002051</td>\n",
       "      <td>0.001787</td>\n",
       "      <td>0.002433</td>\n",
       "      <td>0.001549</td>\n",
       "      <td>0.001910</td>\n",
       "      <td>0.000652</td>\n",
       "      <td>...</td>\n",
       "      <td>0.000912</td>\n",
       "      <td>0.002373</td>\n",
       "      <td>0.002643</td>\n",
       "      <td>0.002099</td>\n",
       "      <td>0.001213</td>\n",
       "      <td>0.001793</td>\n",
       "      <td>0.000597</td>\n",
       "      <td>0.000382</td>\n",
       "      <td>0.002425</td>\n",
       "      <td>0.001443</td>\n",
       "    </tr>\n",
       "    <tr>\n",
       "      <th>Oil</th>\n",
       "      <td>0.000933</td>\n",
       "      <td>0.000672</td>\n",
       "      <td>0.000849</td>\n",
       "      <td>0.000968</td>\n",
       "      <td>0.000868</td>\n",
       "      <td>0.000541</td>\n",
       "      <td>0.001646</td>\n",
       "      <td>0.000523</td>\n",
       "      <td>0.001843</td>\n",
       "      <td>0.001104</td>\n",
       "      <td>...</td>\n",
       "      <td>0.000394</td>\n",
       "      <td>0.001002</td>\n",
       "      <td>0.000920</td>\n",
       "      <td>0.001570</td>\n",
       "      <td>0.001280</td>\n",
       "      <td>0.001423</td>\n",
       "      <td>0.000806</td>\n",
       "      <td>0.001091</td>\n",
       "      <td>0.001608</td>\n",
       "      <td>0.001688</td>\n",
       "    </tr>\n",
       "    <tr>\n",
       "      <th>Util</th>\n",
       "      <td>0.000858</td>\n",
       "      <td>0.000631</td>\n",
       "      <td>0.001118</td>\n",
       "      <td>0.000023</td>\n",
       "      <td>0.000455</td>\n",
       "      <td>0.000350</td>\n",
       "      <td>0.000646</td>\n",
       "      <td>0.000543</td>\n",
       "      <td>0.000545</td>\n",
       "      <td>0.000777</td>\n",
       "      <td>...</td>\n",
       "      <td>0.000136</td>\n",
       "      <td>-0.000596</td>\n",
       "      <td>-0.001000</td>\n",
       "      <td>0.000387</td>\n",
       "      <td>0.000468</td>\n",
       "      <td>0.000719</td>\n",
       "      <td>-0.000099</td>\n",
       "      <td>0.000315</td>\n",
       "      <td>0.000978</td>\n",
       "      <td>0.000840</td>\n",
       "    </tr>\n",
       "    <tr>\n",
       "      <th>Telcm</th>\n",
       "      <td>0.000610</td>\n",
       "      <td>0.000978</td>\n",
       "      <td>0.000057</td>\n",
       "      <td>0.001615</td>\n",
       "      <td>0.001627</td>\n",
       "      <td>0.000889</td>\n",
       "      <td>0.001263</td>\n",
       "      <td>0.001093</td>\n",
       "      <td>0.000860</td>\n",
       "      <td>0.000790</td>\n",
       "      <td>...</td>\n",
       "      <td>0.003065</td>\n",
       "      <td>0.002971</td>\n",
       "      <td>0.002708</td>\n",
       "      <td>0.001097</td>\n",
       "      <td>0.001366</td>\n",
       "      <td>0.001001</td>\n",
       "      <td>0.001718</td>\n",
       "      <td>0.001013</td>\n",
       "      <td>0.001560</td>\n",
       "      <td>0.001129</td>\n",
       "    </tr>\n",
       "    <tr>\n",
       "      <th>Servs</th>\n",
       "      <td>0.000211</td>\n",
       "      <td>0.000400</td>\n",
       "      <td>-0.000266</td>\n",
       "      <td>0.002399</td>\n",
       "      <td>0.001996</td>\n",
       "      <td>0.001111</td>\n",
       "      <td>0.001401</td>\n",
       "      <td>0.001390</td>\n",
       "      <td>0.001072</td>\n",
       "      <td>0.000582</td>\n",
       "      <td>...</td>\n",
       "      <td>0.002971</td>\n",
       "      <td>0.006484</td>\n",
       "      <td>0.006079</td>\n",
       "      <td>0.001173</td>\n",
       "      <td>0.001299</td>\n",
       "      <td>0.001794</td>\n",
       "      <td>0.002447</td>\n",
       "      <td>0.000964</td>\n",
       "      <td>0.001630</td>\n",
       "      <td>0.002029</td>\n",
       "    </tr>\n",
       "    <tr>\n",
       "      <th>BusEq</th>\n",
       "      <td>-0.000280</td>\n",
       "      <td>0.000028</td>\n",
       "      <td>-0.000300</td>\n",
       "      <td>0.002935</td>\n",
       "      <td>0.001624</td>\n",
       "      <td>0.000906</td>\n",
       "      <td>0.000746</td>\n",
       "      <td>0.001264</td>\n",
       "      <td>0.000935</td>\n",
       "      <td>0.000685</td>\n",
       "      <td>...</td>\n",
       "      <td>0.002708</td>\n",
       "      <td>0.006079</td>\n",
       "      <td>0.008346</td>\n",
       "      <td>0.001267</td>\n",
       "      <td>0.001225</td>\n",
       "      <td>0.002178</td>\n",
       "      <td>0.001756</td>\n",
       "      <td>0.000630</td>\n",
       "      <td>0.001395</td>\n",
       "      <td>0.002305</td>\n",
       "    </tr>\n",
       "    <tr>\n",
       "      <th>Paper</th>\n",
       "      <td>0.001205</td>\n",
       "      <td>0.001455</td>\n",
       "      <td>0.001061</td>\n",
       "      <td>0.001615</td>\n",
       "      <td>0.001481</td>\n",
       "      <td>0.001594</td>\n",
       "      <td>0.002683</td>\n",
       "      <td>0.000552</td>\n",
       "      <td>0.002581</td>\n",
       "      <td>0.001869</td>\n",
       "      <td>...</td>\n",
       "      <td>0.001097</td>\n",
       "      <td>0.001173</td>\n",
       "      <td>0.001267</td>\n",
       "      <td>0.003004</td>\n",
       "      <td>0.002107</td>\n",
       "      <td>0.001396</td>\n",
       "      <td>0.001644</td>\n",
       "      <td>0.001420</td>\n",
       "      <td>0.002150</td>\n",
       "      <td>0.001686</td>\n",
       "    </tr>\n",
       "    <tr>\n",
       "      <th>Trans</th>\n",
       "      <td>0.001312</td>\n",
       "      <td>0.001974</td>\n",
       "      <td>0.000241</td>\n",
       "      <td>0.001438</td>\n",
       "      <td>0.001576</td>\n",
       "      <td>0.001366</td>\n",
       "      <td>0.002466</td>\n",
       "      <td>0.000880</td>\n",
       "      <td>0.001966</td>\n",
       "      <td>0.001760</td>\n",
       "      <td>...</td>\n",
       "      <td>0.001366</td>\n",
       "      <td>0.001299</td>\n",
       "      <td>0.001225</td>\n",
       "      <td>0.002107</td>\n",
       "      <td>0.002633</td>\n",
       "      <td>0.001084</td>\n",
       "      <td>0.001831</td>\n",
       "      <td>0.001741</td>\n",
       "      <td>0.002270</td>\n",
       "      <td>0.001557</td>\n",
       "    </tr>\n",
       "    <tr>\n",
       "      <th>Whlsl</th>\n",
       "      <td>0.000633</td>\n",
       "      <td>0.000609</td>\n",
       "      <td>0.001363</td>\n",
       "      <td>0.001681</td>\n",
       "      <td>0.001205</td>\n",
       "      <td>0.000578</td>\n",
       "      <td>0.001654</td>\n",
       "      <td>0.000907</td>\n",
       "      <td>0.001257</td>\n",
       "      <td>0.001426</td>\n",
       "      <td>...</td>\n",
       "      <td>0.001001</td>\n",
       "      <td>0.001794</td>\n",
       "      <td>0.002178</td>\n",
       "      <td>0.001396</td>\n",
       "      <td>0.001084</td>\n",
       "      <td>0.002341</td>\n",
       "      <td>0.001061</td>\n",
       "      <td>0.000848</td>\n",
       "      <td>0.001594</td>\n",
       "      <td>0.001896</td>\n",
       "    </tr>\n",
       "    <tr>\n",
       "      <th>Rtail</th>\n",
       "      <td>0.001165</td>\n",
       "      <td>0.001442</td>\n",
       "      <td>0.000069</td>\n",
       "      <td>0.001649</td>\n",
       "      <td>0.001995</td>\n",
       "      <td>0.001157</td>\n",
       "      <td>0.002607</td>\n",
       "      <td>0.000770</td>\n",
       "      <td>0.001661</td>\n",
       "      <td>0.001696</td>\n",
       "      <td>...</td>\n",
       "      <td>0.001718</td>\n",
       "      <td>0.002447</td>\n",
       "      <td>0.001756</td>\n",
       "      <td>0.001644</td>\n",
       "      <td>0.001831</td>\n",
       "      <td>0.001061</td>\n",
       "      <td>0.003197</td>\n",
       "      <td>0.001890</td>\n",
       "      <td>0.002010</td>\n",
       "      <td>0.001314</td>\n",
       "    </tr>\n",
       "    <tr>\n",
       "      <th>Meals</th>\n",
       "      <td>0.001085</td>\n",
       "      <td>0.001634</td>\n",
       "      <td>0.000590</td>\n",
       "      <td>0.001383</td>\n",
       "      <td>0.001026</td>\n",
       "      <td>0.001076</td>\n",
       "      <td>0.002229</td>\n",
       "      <td>0.000900</td>\n",
       "      <td>0.001425</td>\n",
       "      <td>0.001126</td>\n",
       "      <td>...</td>\n",
       "      <td>0.001013</td>\n",
       "      <td>0.000964</td>\n",
       "      <td>0.000630</td>\n",
       "      <td>0.001420</td>\n",
       "      <td>0.001741</td>\n",
       "      <td>0.000848</td>\n",
       "      <td>0.001890</td>\n",
       "      <td>0.002630</td>\n",
       "      <td>0.001765</td>\n",
       "      <td>0.001129</td>\n",
       "    </tr>\n",
       "    <tr>\n",
       "      <th>Fin</th>\n",
       "      <td>0.001839</td>\n",
       "      <td>0.002236</td>\n",
       "      <td>0.001117</td>\n",
       "      <td>0.002080</td>\n",
       "      <td>0.001979</td>\n",
       "      <td>0.001652</td>\n",
       "      <td>0.002699</td>\n",
       "      <td>0.001412</td>\n",
       "      <td>0.002143</td>\n",
       "      <td>0.001789</td>\n",
       "      <td>...</td>\n",
       "      <td>0.001560</td>\n",
       "      <td>0.001630</td>\n",
       "      <td>0.001395</td>\n",
       "      <td>0.002150</td>\n",
       "      <td>0.002270</td>\n",
       "      <td>0.001594</td>\n",
       "      <td>0.002010</td>\n",
       "      <td>0.001765</td>\n",
       "      <td>0.003459</td>\n",
       "      <td>0.001945</td>\n",
       "    </tr>\n",
       "    <tr>\n",
       "      <th>Other</th>\n",
       "      <td>0.000898</td>\n",
       "      <td>0.001196</td>\n",
       "      <td>0.001418</td>\n",
       "      <td>0.002088</td>\n",
       "      <td>0.001283</td>\n",
       "      <td>0.001322</td>\n",
       "      <td>0.001974</td>\n",
       "      <td>0.001099</td>\n",
       "      <td>0.001832</td>\n",
       "      <td>0.001668</td>\n",
       "      <td>...</td>\n",
       "      <td>0.001129</td>\n",
       "      <td>0.002029</td>\n",
       "      <td>0.002305</td>\n",
       "      <td>0.001686</td>\n",
       "      <td>0.001557</td>\n",
       "      <td>0.001896</td>\n",
       "      <td>0.001314</td>\n",
       "      <td>0.001129</td>\n",
       "      <td>0.001945</td>\n",
       "      <td>0.003655</td>\n",
       "    </tr>\n",
       "  </tbody>\n",
       "</table>\n",
       "<p>30 rows × 30 columns</p>\n",
       "</div>"
      ],
      "text/plain": [
       "           Food      Beer     Smoke     Games     Books     Hshld     Clths  \\\n",
       "Food   0.002287  0.002077  0.001757  0.000701  0.000886  0.001208  0.001474   \n",
       "Beer   0.002077  0.004599  0.001143  0.001147  0.000765  0.002447  0.001415   \n",
       "Smoke  0.001757  0.001143  0.007130  0.000296 -0.000099  0.000981  0.000761   \n",
       "Games  0.000701  0.001147  0.000296  0.003271  0.001485  0.001018  0.001814   \n",
       "Books  0.000886  0.000765 -0.000099  0.001485  0.002302  0.000876  0.002037   \n",
       "Hshld  0.001208  0.002447  0.000981  0.001018  0.000876  0.002849  0.001046   \n",
       "Clths  0.001474  0.001415  0.000761  0.001814  0.002037  0.001046  0.004896   \n",
       "Hlth   0.001105  0.001689  0.000877  0.001219  0.000657  0.001253  0.000759   \n",
       "Chems  0.001253  0.001292  0.000687  0.001547  0.001559  0.001226  0.002547   \n",
       "Txtls  0.001021  0.001721  0.000555  0.001291  0.001362  0.001172  0.002105   \n",
       "Cnstr  0.001282  0.001945  0.001181  0.001723  0.001531  0.001770  0.002486   \n",
       "Steel  0.000027  0.000131  0.000167  0.002670  0.001797  0.001050  0.001702   \n",
       "FabPr  0.000613  0.000666  0.000668  0.002498  0.001704  0.001125  0.002430   \n",
       "ElcEq  0.001146  0.001107 -0.000013  0.001980  0.002084  0.001426  0.002239   \n",
       "Autos  0.000547  0.001296  0.000223  0.001994  0.001550  0.001466  0.002521   \n",
       "Carry  0.001419  0.001804  0.001485  0.001644  0.001301  0.001704  0.002873   \n",
       "Mines  0.000829  0.000272  0.001311  0.001600  0.001281  0.000598  0.002467   \n",
       "Coal   0.000034  0.001261 -0.000544  0.001557  0.002051  0.001787  0.002433   \n",
       "Oil    0.000933  0.000672  0.000849  0.000968  0.000868  0.000541  0.001646   \n",
       "Util   0.000858  0.000631  0.001118  0.000023  0.000455  0.000350  0.000646   \n",
       "Telcm  0.000610  0.000978  0.000057  0.001615  0.001627  0.000889  0.001263   \n",
       "Servs  0.000211  0.000400 -0.000266  0.002399  0.001996  0.001111  0.001401   \n",
       "BusEq -0.000280  0.000028 -0.000300  0.002935  0.001624  0.000906  0.000746   \n",
       "Paper  0.001205  0.001455  0.001061  0.001615  0.001481  0.001594  0.002683   \n",
       "Trans  0.001312  0.001974  0.000241  0.001438  0.001576  0.001366  0.002466   \n",
       "Whlsl  0.000633  0.000609  0.001363  0.001681  0.001205  0.000578  0.001654   \n",
       "Rtail  0.001165  0.001442  0.000069  0.001649  0.001995  0.001157  0.002607   \n",
       "Meals  0.001085  0.001634  0.000590  0.001383  0.001026  0.001076  0.002229   \n",
       "Fin    0.001839  0.002236  0.001117  0.002080  0.001979  0.001652  0.002699   \n",
       "Other  0.000898  0.001196  0.001418  0.002088  0.001283  0.001322  0.001974   \n",
       "\n",
       "           Hlth     Chems     Txtls  ...     Telcm     Servs     BusEq  \\\n",
       "Food   0.001105  0.001253  0.001021  ...  0.000610  0.000211 -0.000280   \n",
       "Beer   0.001689  0.001292  0.001721  ...  0.000978  0.000400  0.000028   \n",
       "Smoke  0.000877  0.000687  0.000555  ...  0.000057 -0.000266 -0.000300   \n",
       "Games  0.001219  0.001547  0.001291  ...  0.001615  0.002399  0.002935   \n",
       "Books  0.000657  0.001559  0.001362  ...  0.001627  0.001996  0.001624   \n",
       "Hshld  0.001253  0.001226  0.001172  ...  0.000889  0.001111  0.000906   \n",
       "Clths  0.000759  0.002547  0.002105  ...  0.001263  0.001401  0.000746   \n",
       "Hlth   0.002252  0.000444  0.000538  ...  0.001093  0.001390  0.001264   \n",
       "Chems  0.000444  0.002944  0.001705  ...  0.000860  0.001072  0.000935   \n",
       "Txtls  0.000538  0.001705  0.002882  ...  0.000790  0.000582  0.000685   \n",
       "Cnstr  0.001217  0.001829  0.001648  ...  0.001488  0.002169  0.001968   \n",
       "Steel  0.000836  0.002327  0.001321  ...  0.001987  0.003934  0.005049   \n",
       "FabPr  0.000768  0.002273  0.001576  ...  0.001428  0.002647  0.003732   \n",
       "ElcEq  0.001108  0.001560  0.001102  ...  0.002058  0.003312  0.002968   \n",
       "Autos  0.000851  0.001882  0.001811  ...  0.001544  0.001800  0.002273   \n",
       "Carry  0.000755  0.002374  0.001842  ...  0.000845  0.001082  0.001261   \n",
       "Mines  0.001103  0.002345  0.001274  ...  0.001456  0.002260  0.002199   \n",
       "Coal   0.001549  0.001910  0.000652  ...  0.000912  0.002373  0.002643   \n",
       "Oil    0.000523  0.001843  0.001104  ...  0.000394  0.001002  0.000920   \n",
       "Util   0.000543  0.000545  0.000777  ...  0.000136 -0.000596 -0.001000   \n",
       "Telcm  0.001093  0.000860  0.000790  ...  0.003065  0.002971  0.002708   \n",
       "Servs  0.001390  0.001072  0.000582  ...  0.002971  0.006484  0.006079   \n",
       "BusEq  0.001264  0.000935  0.000685  ...  0.002708  0.006079  0.008346   \n",
       "Paper  0.000552  0.002581  0.001869  ...  0.001097  0.001173  0.001267   \n",
       "Trans  0.000880  0.001966  0.001760  ...  0.001366  0.001299  0.001225   \n",
       "Whlsl  0.000907  0.001257  0.001426  ...  0.001001  0.001794  0.002178   \n",
       "Rtail  0.000770  0.001661  0.001696  ...  0.001718  0.002447  0.001756   \n",
       "Meals  0.000900  0.001425  0.001126  ...  0.001013  0.000964  0.000630   \n",
       "Fin    0.001412  0.002143  0.001789  ...  0.001560  0.001630  0.001395   \n",
       "Other  0.001099  0.001832  0.001668  ...  0.001129  0.002029  0.002305   \n",
       "\n",
       "          Paper     Trans     Whlsl     Rtail     Meals       Fin     Other  \n",
       "Food   0.001205  0.001312  0.000633  0.001165  0.001085  0.001839  0.000898  \n",
       "Beer   0.001455  0.001974  0.000609  0.001442  0.001634  0.002236  0.001196  \n",
       "Smoke  0.001061  0.000241  0.001363  0.000069  0.000590  0.001117  0.001418  \n",
       "Games  0.001615  0.001438  0.001681  0.001649  0.001383  0.002080  0.002088  \n",
       "Books  0.001481  0.001576  0.001205  0.001995  0.001026  0.001979  0.001283  \n",
       "Hshld  0.001594  0.001366  0.000578  0.001157  0.001076  0.001652  0.001322  \n",
       "Clths  0.002683  0.002466  0.001654  0.002607  0.002229  0.002699  0.001974  \n",
       "Hlth   0.000552  0.000880  0.000907  0.000770  0.000900  0.001412  0.001099  \n",
       "Chems  0.002581  0.001966  0.001257  0.001661  0.001425  0.002143  0.001832  \n",
       "Txtls  0.001869  0.001760  0.001426  0.001696  0.001126  0.001789  0.001668  \n",
       "Cnstr  0.001922  0.002030  0.001453  0.001852  0.001810  0.002331  0.001573  \n",
       "Steel  0.002306  0.001528  0.002210  0.001423  0.000553  0.001851  0.003370  \n",
       "FabPr  0.002367  0.001949  0.002082  0.001669  0.001507  0.001985  0.002458  \n",
       "ElcEq  0.001540  0.001623  0.001080  0.002326  0.001300  0.002323  0.001556  \n",
       "Autos  0.001957  0.001963  0.001543  0.001792  0.001624  0.002226  0.002055  \n",
       "Carry  0.002619  0.002232  0.001461  0.001702  0.001868  0.002368  0.002159  \n",
       "Mines  0.002562  0.001623  0.001991  0.001537  0.001218  0.001757  0.002606  \n",
       "Coal   0.002099  0.001213  0.001793  0.000597  0.000382  0.002425  0.001443  \n",
       "Oil    0.001570  0.001280  0.001423  0.000806  0.001091  0.001608  0.001688  \n",
       "Util   0.000387  0.000468  0.000719 -0.000099  0.000315  0.000978  0.000840  \n",
       "Telcm  0.001097  0.001366  0.001001  0.001718  0.001013  0.001560  0.001129  \n",
       "Servs  0.001173  0.001299  0.001794  0.002447  0.000964  0.001630  0.002029  \n",
       "BusEq  0.001267  0.001225  0.002178  0.001756  0.000630  0.001395  0.002305  \n",
       "Paper  0.003004  0.002107  0.001396  0.001644  0.001420  0.002150  0.001686  \n",
       "Trans  0.002107  0.002633  0.001084  0.001831  0.001741  0.002270  0.001557  \n",
       "Whlsl  0.001396  0.001084  0.002341  0.001061  0.000848  0.001594  0.001896  \n",
       "Rtail  0.001644  0.001831  0.001061  0.003197  0.001890  0.002010  0.001314  \n",
       "Meals  0.001420  0.001741  0.000848  0.001890  0.002630  0.001765  0.001129  \n",
       "Fin    0.002150  0.002270  0.001594  0.002010  0.001765  0.003459  0.001945  \n",
       "Other  0.001686  0.001557  0.001896  0.001314  0.001129  0.001945  0.003655  \n",
       "\n",
       "[30 rows x 30 columns]"
      ]
     },
     "execution_count": 26,
     "metadata": {},
     "output_type": "execute_result"
    }
   ],
   "source": [
    "cov=ind[\"1995\":\"2000\"].cov()\n",
    "cov"
   ]
  },
  {
   "cell_type": "markdown",
   "metadata": {},
   "source": [
    "## <a id='toc1_5_'></a>[Lab 2 - Intro to the Efficient Frontier 2](#toc0_)"
   ]
  },
  {
   "cell_type": "markdown",
   "metadata": {},
   "source": [
    "### <a id='toc1_5_1_'></a>[Importing our toolkit and the data.](#toc0_)"
   ]
  },
  {
   "cell_type": "code",
   "execution_count": 1,
   "metadata": {},
   "outputs": [],
   "source": [
    "import add_doc_path\n",
    "import finance_pkg.Edhec_risk_kit as erk\n",
    "import numpy as np\n",
    "import pandas as pd"
   ]
  },
  {
   "cell_type": "code",
   "execution_count": 2,
   "metadata": {},
   "outputs": [],
   "source": [
    "ind=erk.get_ind_returns()\n",
    "er=erk.annualize_rets(ind[\"1996\":\"2000\"],12)\n",
    "cov=ind[\"1996\":\"2000\"].cov()"
   ]
  },
  {
   "cell_type": "markdown",
   "metadata": {},
   "source": [
    "### <a id='toc1_5_2_'></a>[Obtaining the return & coviance of a portfolio](#toc0_)"
   ]
  },
  {
   "attachments": {},
   "cell_type": "markdown",
   "metadata": {},
   "source": [
    "Functions that have been added to our toolkit:\n",
    "```python\n",
    "\n",
    "def portfolio_return(weights, returns):\n",
    "    \"\"\"Weights --> returns\n",
    "\n",
    "    Args:\n",
    "        weights (_type_): _description_\n",
    "        returns (_type_): _description_\n",
    "    \"\"\"\n",
    "    return weights.T @ returns\n",
    "\n",
    "def portfolio_vol(weights, covmat):\n",
    "    \"\"\"Weights --> volatility\n",
    "\n",
    "    Args:\n",
    "        weights (_type_): _description_\n",
    "        covmat (_type_): _description_\n",
    "    \"\"\"\n",
    "    return (weights.T @ covmat @ weights)**0.5\n",
    "```"
   ]
  },
  {
   "attachments": {},
   "cell_type": "markdown",
   "metadata": {},
   "source": [
    "We choose 4 assets in the list of all industries to have a simpler example and get the returns and variance:"
   ]
  },
  {
   "cell_type": "code",
   "execution_count": 4,
   "metadata": {},
   "outputs": [
    {
     "data": {
      "text/plain": [
       "Food     0.116799\n",
       "Beer     0.141126\n",
       "Smoke    0.107830\n",
       "Coal     0.414689\n",
       "dtype: float64"
      ]
     },
     "execution_count": 4,
     "metadata": {},
     "output_type": "execute_result"
    }
   ],
   "source": [
    "l=[\"Food\",\"Beer\",\"Smoke\",\"Coal\"]\n",
    "er[l]"
   ]
  },
  {
   "cell_type": "code",
   "execution_count": 6,
   "metadata": {},
   "outputs": [
    {
     "data": {
      "text/html": [
       "<div>\n",
       "<style scoped>\n",
       "    .dataframe tbody tr th:only-of-type {\n",
       "        vertical-align: middle;\n",
       "    }\n",
       "\n",
       "    .dataframe tbody tr th {\n",
       "        vertical-align: top;\n",
       "    }\n",
       "\n",
       "    .dataframe thead th {\n",
       "        text-align: right;\n",
       "    }\n",
       "</style>\n",
       "<table border=\"1\" class=\"dataframe\">\n",
       "  <thead>\n",
       "    <tr style=\"text-align: right;\">\n",
       "      <th></th>\n",
       "      <th>Food</th>\n",
       "      <th>Beer</th>\n",
       "      <th>Smoke</th>\n",
       "      <th>Coal</th>\n",
       "    </tr>\n",
       "  </thead>\n",
       "  <tbody>\n",
       "    <tr>\n",
       "      <th>Food</th>\n",
       "      <td>0.002609</td>\n",
       "      <td>0.002379</td>\n",
       "      <td>0.002061</td>\n",
       "      <td>0.000027</td>\n",
       "    </tr>\n",
       "    <tr>\n",
       "      <th>Beer</th>\n",
       "      <td>0.002379</td>\n",
       "      <td>0.005264</td>\n",
       "      <td>0.001359</td>\n",
       "      <td>0.001728</td>\n",
       "    </tr>\n",
       "    <tr>\n",
       "      <th>Smoke</th>\n",
       "      <td>0.002061</td>\n",
       "      <td>0.001359</td>\n",
       "      <td>0.008349</td>\n",
       "      <td>-0.000733</td>\n",
       "    </tr>\n",
       "    <tr>\n",
       "      <th>Coal</th>\n",
       "      <td>0.000027</td>\n",
       "      <td>0.001728</td>\n",
       "      <td>-0.000733</td>\n",
       "      <td>0.018641</td>\n",
       "    </tr>\n",
       "  </tbody>\n",
       "</table>\n",
       "</div>"
      ],
      "text/plain": [
       "           Food      Beer     Smoke      Coal\n",
       "Food   0.002609  0.002379  0.002061  0.000027\n",
       "Beer   0.002379  0.005264  0.001359  0.001728\n",
       "Smoke  0.002061  0.001359  0.008349 -0.000733\n",
       "Coal   0.000027  0.001728 -0.000733  0.018641"
      ]
     },
     "execution_count": 6,
     "metadata": {},
     "output_type": "execute_result"
    }
   ],
   "source": [
    "cov.loc[l, l] ## get the sub-matrix"
   ]
  },
  {
   "attachments": {},
   "cell_type": "markdown",
   "metadata": {},
   "source": [
    "As an example, we get equal weight for each asset and compute return and volatility:"
   ]
  },
  {
   "cell_type": "code",
   "execution_count": 18,
   "metadata": {},
   "outputs": [
    {
     "data": {
      "text/plain": [
       "0.19511097196038385"
      ]
     },
     "execution_count": 18,
     "metadata": {},
     "output_type": "execute_result"
    }
   ],
   "source": [
    "weights=np.repeat(0.25,4) \n",
    "erk.portfolio_return(returns=er[l],weights=weights)"
   ]
  },
  {
   "cell_type": "code",
   "execution_count": 13,
   "metadata": {},
   "outputs": [
    {
     "data": {
      "text/plain": [
       "0.055059195776437045"
      ]
     },
     "execution_count": 13,
     "metadata": {},
     "output_type": "execute_result"
    }
   ],
   "source": [
    "erk.portfolio_vol(weights,cov.loc[l,l])"
   ]
  },
  {
   "cell_type": "markdown",
   "metadata": {},
   "source": [
    "### <a id='toc1_5_3_'></a>[Two asset frontier](#toc0_)"
   ]
  },
  {
   "attachments": {},
   "cell_type": "markdown",
   "metadata": {},
   "source": [
    "Lets get 20 points that are different combinations of the 2 assets (games and financial) that we will use as weights:"
   ]
  },
  {
   "cell_type": "code",
   "execution_count": 25,
   "metadata": {},
   "outputs": [],
   "source": [
    "l=[\"Games\",\"Fin\"]"
   ]
  },
  {
   "cell_type": "code",
   "execution_count": 26,
   "metadata": {},
   "outputs": [
    {
     "data": {
      "text/plain": [
       "[array([0., 1.]),\n",
       " array([0.05263158, 0.94736842]),\n",
       " array([0.10526316, 0.89473684]),\n",
       " array([0.15789474, 0.84210526]),\n",
       " array([0.21052632, 0.78947368]),\n",
       " array([0.26315789, 0.73684211]),\n",
       " array([0.31578947, 0.68421053]),\n",
       " array([0.36842105, 0.63157895]),\n",
       " array([0.42105263, 0.57894737]),\n",
       " array([0.47368421, 0.52631579]),\n",
       " array([0.52631579, 0.47368421]),\n",
       " array([0.57894737, 0.42105263]),\n",
       " array([0.63157895, 0.36842105]),\n",
       " array([0.68421053, 0.31578947]),\n",
       " array([0.73684211, 0.26315789]),\n",
       " array([0.78947368, 0.21052632]),\n",
       " array([0.84210526, 0.15789474]),\n",
       " array([0.89473684, 0.10526316]),\n",
       " array([0.94736842, 0.05263158]),\n",
       " array([1., 0.])]"
      ]
     },
     "execution_count": 26,
     "metadata": {},
     "output_type": "execute_result"
    }
   ],
   "source": [
    "n_points=20\n",
    "weights=[np.array([w, 1-w] )for w in np.linspace(0,1,n_points)] \n",
    "weights"
   ]
  },
  {
   "cell_type": "code",
   "execution_count": 28,
   "metadata": {},
   "outputs": [
    {
     "data": {
      "text/plain": [
       "<AxesSubplot: xlabel='Vol', ylabel='R'>"
      ]
     },
     "execution_count": 28,
     "metadata": {},
     "output_type": "execute_result"
    },
    {
     "data": {
      "image/png": "[encoded data removed]",
      "text/plain": [
       "<Figure size 640x480 with 1 Axes>"
      ]
     },
     "metadata": {},
     "output_type": "display_data"
    }
   ],
   "source": [
    "rets=[erk.portfolio_return(w, er[l]) for w in weights]\n",
    "vols=[erk.portfolio_vol(w, cov.loc[l,l]) for w in weights]\n",
    "ef= pd.DataFrame({'R':rets, \"Vol\":vols})\n",
    "ef.plot.scatter(x=\"Vol\",y=\"R\")"
   ]
  },
  {
   "attachments": {},
   "cell_type": "markdown",
   "metadata": {},
   "source": [
    "We created a function to plot directly in the case of 2-asset."
   ]
  },
  {
   "cell_type": "code",
   "execution_count": 12,
   "metadata": {},
   "outputs": [
    {
     "data": {
      "text/plain": [
       "<AxesSubplot: xlabel='Volatility'>"
      ]
     },
     "execution_count": 12,
     "metadata": {},
     "output_type": "execute_result"
    },
    {
     "data": {
      "image/png": "[encoded data removed]",
      "text/plain": [
       "<Figure size 640x480 with 1 Axes>"
      ]
     },
     "metadata": {},
     "output_type": "display_data"
    }
   ],
   "source": [
    "l=[\"Fin\",\"Beer\"]\n",
    "erk.plot_ef2(25,er[l],cov.loc[l,l],style=(\"-\"))"
   ]
  },
  {
   "cell_type": "markdown",
   "metadata": {},
   "source": [
    "## <a id='toc1_6_'></a>[Lab 3 - Quadprog to draw the efficient frontier](#toc0_)"
   ]
  },
  {
   "cell_type": "markdown",
   "metadata": {},
   "source": [
    "### <a id='toc1_6_1_'></a>[Importing our toolkit and the data.](#toc0_)"
   ]
  },
  {
   "cell_type": "code",
   "execution_count": 1,
   "metadata": {},
   "outputs": [],
   "source": [
    "import add_doc_path\n",
    "import finance_pkg.Edhec_risk_kit as erk\n",
    "import numpy as np\n",
    "import pandas as pd"
   ]
  },
  {
   "cell_type": "code",
   "execution_count": 2,
   "metadata": {},
   "outputs": [],
   "source": [
    "ind=erk.get_ind_returns()\n",
    "er=erk.annualize_rets(ind[\"1996\":\"2000\"],12)\n",
    "cov=ind[\"1996\":\"2000\"].cov()"
   ]
  },
  {
   "cell_type": "markdown",
   "metadata": {},
   "source": [
    "### <a id='toc1_6_2_'></a>[Creating a minimizing function for a given level of return](#toc0_)"
   ]
  },
  {
   "attachments": {},
   "cell_type": "markdown",
   "metadata": {},
   "source": [
    "Now we want to get the N-asset frontier, but the big issue it to get the weights that are on the frontier for n-asset (the rest of the function stays the same). We need an optimizer that will come from the scipy package. We built this function that we've added to the tool_kit, it get the desired return as an input and computes the combination of assets in er that gives this return while minimizing risks:\n",
    "```python\n",
    "def minimize_vol(target_return, er, cov):\n",
    "    \"\"\"target_return --> weight vector\n",
    "    Args:\n",
    "        target_return (float): return desired\n",
    "        er (pd.Series): Returns\n",
    "        cov (pd.DataFrame): Covariance Matrix\n",
    "    \"\"\"\n",
    "    n=er.shape[0]\n",
    "    init_guess=np.repeat(1/n,n)\n",
    "    bounds=((0.0, 1.0),)*n\n",
    "    return_is_target={\n",
    "       'type':'eq',\n",
    "       'args':(er,),\n",
    "       'fun': lambda weights, er: target_return-portfolio_return(weights,er)\n",
    "    }\n",
    "    weights_sum_to_1={\n",
    "        'type':'eq',\n",
    "        'fun': lambda weights: np.sum(weights)-1 \n",
    "    }\n",
    "    results=minimize(portfolio_vol,\n",
    "                     init_guess,args=(cov,), \n",
    "                     method=\"SLSQP\", \n",
    "                     options={'disp':False},\n",
    "                     constraints=(return_is_target,weights_sum_to_1),\n",
    "                     bounds=bounds\n",
    "                     )\n",
    "    return results.x\n"
   ]
  },
  {
   "cell_type": "code",
   "execution_count": 3,
   "metadata": {},
   "outputs": [
    {
     "name": "stdout",
     "output_type": "stream",
     "text": [
      "0.056163669406706564 [0.47287631 0.52712369]\n"
     ]
    }
   ],
   "source": [
    "l=[\"Games\",\"Fin\"]\n",
    "w15=erk.minimize_vol(.15,er[l],cov.loc[l,l])\n",
    "vol15=erk.portfolio_vol(w15,cov.loc[l,l])\n",
    "print(vol15,w15)"
   ]
  },
  {
   "attachments": {},
   "cell_type": "markdown",
   "metadata": {},
   "source": [
    "So for a given return, the program computes the weight associated to minimize volatility and the values for a 2-asset scenario seem to be matching."
   ]
  },
  {
   "attachments": {},
   "cell_type": "markdown",
   "metadata": {},
   "source": [
    "### <a id='toc1_6_3_'></a>[Applying it to the plotting function and getting the optimized weights in the N-asset scenario](#toc0_)"
   ]
  },
  {
   "attachments": {},
   "cell_type": "markdown",
   "metadata": {},
   "source": [
    "We have built a function that should plot the efficient frontier in the n-asset case, let's try it:"
   ]
  },
  {
   "cell_type": "code",
   "execution_count": 8,
   "metadata": {},
   "outputs": [
    {
     "data": {
      "text/plain": [
       "<AxesSubplot: xlabel='Volatility'>"
      ]
     },
     "execution_count": 8,
     "metadata": {},
     "output_type": "execute_result"
    },
    {
     "data": {
      "image/png": "[encoded data removed]",
      "text/plain": [
       "<Figure size 640x480 with 1 Axes>"
      ]
     },
     "metadata": {},
     "output_type": "display_data"
    }
   ],
   "source": [
    "erk.plot_ef(20,er,cov)"
   ]
  },
  {
   "attachments": {},
   "cell_type": "markdown",
   "metadata": {},
   "source": [
    "For instance, if we had the choice to invest in all these assets and wanted a 20% annual return we should have invested at the following weights:"
   ]
  },
  {
   "cell_type": "code",
   "execution_count": 12,
   "metadata": {},
   "outputs": [
    {
     "name": "stdout",
     "output_type": "stream",
     "text": [
      "0.0353598469445171 [8.97972984e-18 0.00000000e+00 0.00000000e+00 3.99887935e-18\n",
      " 0.00000000e+00 0.00000000e+00 4.52571919e-18 2.97760716e-01\n",
      " 3.19348686e-18 2.05735382e-18 6.78245523e-18 0.00000000e+00\n",
      " 8.85598321e-18 4.70197683e-02 0.00000000e+00 0.00000000e+00\n",
      " 1.30378943e-17 6.47638755e-02 1.67447667e-17 3.33094771e-01\n",
      " 0.00000000e+00 2.11296026e-17 7.66127206e-02 2.15024473e-18\n",
      " 0.00000000e+00 5.21210865e-19 1.80748149e-01 0.00000000e+00\n",
      " 0.00000000e+00 4.95007623e-18]\n"
     ]
    }
   ],
   "source": [
    "w20_n=erk.minimize_vol(.20,er,cov)\n",
    "vol20_n=erk.portfolio_vol(w20_n,cov)\n",
    "print(vol20_n,w20_n)"
   ]
  },
  {
   "cell_type": "code",
   "execution_count": 23,
   "metadata": {},
   "outputs": [
    {
     "data": {
      "text/html": [
       "<div>\n",
       "<style scoped>\n",
       "    .dataframe tbody tr th:only-of-type {\n",
       "        vertical-align: middle;\n",
       "    }\n",
       "\n",
       "    .dataframe tbody tr th {\n",
       "        vertical-align: top;\n",
       "    }\n",
       "\n",
       "    .dataframe thead th {\n",
       "        text-align: right;\n",
       "    }\n",
       "</style>\n",
       "<table border=\"1\" class=\"dataframe\">\n",
       "  <thead>\n",
       "    <tr style=\"text-align: right;\">\n",
       "      <th></th>\n",
       "      <th>0</th>\n",
       "    </tr>\n",
       "  </thead>\n",
       "  <tbody>\n",
       "    <tr>\n",
       "      <th>Food</th>\n",
       "      <td>0.00</td>\n",
       "    </tr>\n",
       "    <tr>\n",
       "      <th>Beer</th>\n",
       "      <td>0.00</td>\n",
       "    </tr>\n",
       "    <tr>\n",
       "      <th>Smoke</th>\n",
       "      <td>0.00</td>\n",
       "    </tr>\n",
       "    <tr>\n",
       "      <th>Games</th>\n",
       "      <td>0.00</td>\n",
       "    </tr>\n",
       "    <tr>\n",
       "      <th>Books</th>\n",
       "      <td>0.00</td>\n",
       "    </tr>\n",
       "    <tr>\n",
       "      <th>Hshld</th>\n",
       "      <td>0.00</td>\n",
       "    </tr>\n",
       "    <tr>\n",
       "      <th>Clths</th>\n",
       "      <td>0.00</td>\n",
       "    </tr>\n",
       "    <tr>\n",
       "      <th>Hlth</th>\n",
       "      <td>0.30</td>\n",
       "    </tr>\n",
       "    <tr>\n",
       "      <th>Chems</th>\n",
       "      <td>0.00</td>\n",
       "    </tr>\n",
       "    <tr>\n",
       "      <th>Txtls</th>\n",
       "      <td>0.00</td>\n",
       "    </tr>\n",
       "    <tr>\n",
       "      <th>Cnstr</th>\n",
       "      <td>0.00</td>\n",
       "    </tr>\n",
       "    <tr>\n",
       "      <th>Steel</th>\n",
       "      <td>0.00</td>\n",
       "    </tr>\n",
       "    <tr>\n",
       "      <th>FabPr</th>\n",
       "      <td>0.00</td>\n",
       "    </tr>\n",
       "    <tr>\n",
       "      <th>ElcEq</th>\n",
       "      <td>0.05</td>\n",
       "    </tr>\n",
       "    <tr>\n",
       "      <th>Autos</th>\n",
       "      <td>0.00</td>\n",
       "    </tr>\n",
       "    <tr>\n",
       "      <th>Carry</th>\n",
       "      <td>0.00</td>\n",
       "    </tr>\n",
       "    <tr>\n",
       "      <th>Mines</th>\n",
       "      <td>0.00</td>\n",
       "    </tr>\n",
       "    <tr>\n",
       "      <th>Coal</th>\n",
       "      <td>0.06</td>\n",
       "    </tr>\n",
       "    <tr>\n",
       "      <th>Oil</th>\n",
       "      <td>0.00</td>\n",
       "    </tr>\n",
       "    <tr>\n",
       "      <th>Util</th>\n",
       "      <td>0.33</td>\n",
       "    </tr>\n",
       "    <tr>\n",
       "      <th>Telcm</th>\n",
       "      <td>0.00</td>\n",
       "    </tr>\n",
       "    <tr>\n",
       "      <th>Servs</th>\n",
       "      <td>0.00</td>\n",
       "    </tr>\n",
       "    <tr>\n",
       "      <th>BusEq</th>\n",
       "      <td>0.08</td>\n",
       "    </tr>\n",
       "    <tr>\n",
       "      <th>Paper</th>\n",
       "      <td>0.00</td>\n",
       "    </tr>\n",
       "    <tr>\n",
       "      <th>Trans</th>\n",
       "      <td>0.00</td>\n",
       "    </tr>\n",
       "    <tr>\n",
       "      <th>Whlsl</th>\n",
       "      <td>0.00</td>\n",
       "    </tr>\n",
       "    <tr>\n",
       "      <th>Rtail</th>\n",
       "      <td>0.18</td>\n",
       "    </tr>\n",
       "    <tr>\n",
       "      <th>Meals</th>\n",
       "      <td>0.00</td>\n",
       "    </tr>\n",
       "    <tr>\n",
       "      <th>Fin</th>\n",
       "      <td>0.00</td>\n",
       "    </tr>\n",
       "    <tr>\n",
       "      <th>Other</th>\n",
       "      <td>0.00</td>\n",
       "    </tr>\n",
       "  </tbody>\n",
       "</table>\n",
       "</div>"
      ],
      "text/plain": [
       "          0\n",
       "Food   0.00\n",
       "Beer   0.00\n",
       "Smoke  0.00\n",
       "Games  0.00\n",
       "Books  0.00\n",
       "Hshld  0.00\n",
       "Clths  0.00\n",
       "Hlth   0.30\n",
       "Chems  0.00\n",
       "Txtls  0.00\n",
       "Cnstr  0.00\n",
       "Steel  0.00\n",
       "FabPr  0.00\n",
       "ElcEq  0.05\n",
       "Autos  0.00\n",
       "Carry  0.00\n",
       "Mines  0.00\n",
       "Coal   0.06\n",
       "Oil    0.00\n",
       "Util   0.33\n",
       "Telcm  0.00\n",
       "Servs  0.00\n",
       "BusEq  0.08\n",
       "Paper  0.00\n",
       "Trans  0.00\n",
       "Whlsl  0.00\n",
       "Rtail  0.18\n",
       "Meals  0.00\n",
       "Fin    0.00\n",
       "Other  0.00"
      ]
     },
     "execution_count": 23,
     "metadata": {},
     "output_type": "execute_result"
    }
   ],
   "source": [
    "w20_n=pd.DataFrame(w20_n).round(2)\n",
    "w20_n.index=er.index\n",
    "w20_n\n"
   ]
  }
 ],
 "metadata": {
  "kernelspec": {
   "display_name": "Python 3",
   "language": "python",
   "name": "python3"
  },
  "language_info": {
   "codemirror_mode": {
    "name": "ipython",
    "version": 3
   },
   "file_extension": ".py",
   "mimetype": "text/x-python",
   "name": "python",
   "nbconvert_exporter": "python",
   "pygments_lexer": "ipython3",
   "version": "3.11.1"
  },
  "orig_nbformat": 4,
  "vscode": {
   "interpreter": {
    "hash": "aee8b7b246df8f9039afb4144a1f6fd8d2ca17a180786b69acc140d282b71a49"
   }
  }
 },
 "nbformat": 4,
 "nbformat_minor": 2
}
