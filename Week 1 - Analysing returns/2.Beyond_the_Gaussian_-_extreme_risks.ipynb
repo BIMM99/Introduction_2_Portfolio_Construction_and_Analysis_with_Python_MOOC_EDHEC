{
 "cells": [
  {
   "cell_type": "markdown",
   "metadata": {},
   "source": [
    "# <a id='toc1_'></a>[Beyond the Gaussian: extreme risks estimates](#toc0_)\n",
    "  \n",
    "1st week, 2nd section, Introduction to Portfolio Construction and Analysis with Python\n",
    "Vijay Vaidyanathan & Lionel Martellini.  \n",
    "Notes and code written by Benoît MARION."
   ]
  },
  {
   "cell_type": "markdown",
   "metadata": {},
   "source": [
    "**Table of contents**<a id='toc0_'></a>    \n",
    "- [Beyond the Gaussian: extreme risks estimates](#toc1_)    \n",
    "  - [Lecture 1 - Deviations from normality](#toc1_1_)    \n",
    "  - [Lecture 2 - Downside risk measures](#toc1_2_)    \n",
    "  - [Lab 1 - Deviation from normality](#toc1_3_)    \n",
    "      - [A first glance at skewness](#toc1_3_1_1_)    \n",
    "      - [Skewness](#toc1_3_1_2_)    \n",
    "      - [Kurtosis](#toc1_3_1_3_)    \n",
    "      - [Jarque-Bera test](#toc1_3_1_4_)    \n",
    "  - [Lab 2 - Downside risk measures](#toc1_4_)    \n",
    "      - [Semi-deviation](#toc1_4_1_1_)    \n",
    "      - [VaR](#toc1_4_1_2_)    \n",
    "        - [Historic VaR](#toc1_4_1_2_1_)    \n",
    "        - [Paramtric VaR - Gaussian](#toc1_4_1_2_2_)    \n",
    "        - [Modified Cornish-Fisher VaR](#toc1_4_1_2_3_)    \n",
    "        - [Summing-up the different VaRs](#toc1_4_1_2_4_)    \n",
    "      - [Beyond VaR: CVaR](#toc1_4_1_3_)    \n",
    "\n",
    "<!-- vscode-jupyter-toc-config\n",
    "\tnumbering=false\n",
    "\tanchor=true\n",
    "\tflat=false\n",
    "\tminLevel=1\n",
    "\tmaxLevel=6\n",
    "\t/vscode-jupyter-toc-config -->\n",
    "<!-- THIS CELL WILL BE REPLACED ON TOC UPDATE. DO NOT WRITE YOUR TEXT IN THIS CELL -->"
   ]
  },
  {
   "cell_type": "markdown",
   "metadata": {},
   "source": [
    "## <a id='toc1_1_'></a>[Lecture 1 - Deviations from normality](#toc0_)\n",
    "\n",
    "Often variable in the real world are assumed to be normally distributed to simplify. Empirically, many analysis have proven that in the financial sector this is a false assumption. In many case, the effective returns often exceeds what gaussian simulations are predicting.\n",
    "  \n",
    "The extreme values found in various analysis are way more frequent than they should be in the case of a normal distribution. When we look at extreme events, its common to see some that should not occur more than once each thousands years.\n",
    "\n",
    "By looking at higher order moment than mean or variance, like skewness or kurtosis we can measure in a better way the difference between the real world and the common assumptions:\n",
    "\n",
    "- ***Skewness*** represents how the values are distributed around the mean (positive skewness = values are mostly distributed above the mean). \n",
    "$ S(R)=\\frac{E((R-E(R))^3)}{\\sigma_R^3} $\n",
    "\n",
    "- ***Kurtosis*** let us know how thick the tail is (0=normal, >0 more extreme values than normal, <0 less outliers than normal). \n",
    "$ K(R)=\\frac{E((R-E(R))^4)}{\\sigma_R^4} $\n",
    "\n",
    "- Finally, to test if a distribution is normal, people often use the ***Jarque-Bera test***. Most financial series rojet the null-hipothesis of normality.\n",
    "\n",
    "For a good investment, the skewness should be negative (values are more frequently above the mean) and kurtosis should be relatively small (no so much extreme events)."
   ]
  },
  {
   "cell_type": "markdown",
   "metadata": {},
   "source": [
    "## <a id='toc1_2_'></a>[Lecture 2 - Downside risk measures](#toc0_)\n",
    "\n",
    "- ***Semi-deviation*** is the volatility below the average, which is the only one that bothers investors:\n",
    "$$ \\sigma_{semi}=\\sqrt{\\frac{1}{N_{R_i<\\overline{R}}}\\sum_{R_i<\\overline{R}} (R_i-\\overline{R})^2}$$\n",
    "  \n",
    "- ***Value at risk*** (VaR) is the maximum loss that can occur with a given probability for a given period. To calculate it, one just has to get the data exclude the worst figures (1%, 5% or 10%) and see the lowest point. The issue with VaR is that it excludes the information above the threshold which can be of even greater concern.\n",
    "\n",
    "    4 common methodologies to estimate VaR:  \n",
    "        1) historical (non-parametric): by looking at the historical data, you exclude the treshold $ \\alpha $ (1%,5%...) and look at the highest loss.Pros: no assumptions, simple. Cons: estimates can be very sensitive to data, sample and periods. $$ VaR_{hist}= - R_{\\alpha} $$\n",
    "        2) variance-covariance (parametric gaussian): you compute the mean and variance of the distribution, and as you supose that the distribution is normal, the VaR is just a linear combination of the treshold value and the parameters. Pros: easy. Cons:normality shouldn't be assumed as it leads to underestimate risks especially if focussing on the tails (about 45 to 60%). $$ VaR_{Gaussian\\_Params}=  -(Z_\\alpha \\sigma_R + \\mu_R) $$\n",
    "        3) parametric non-gaussian: various type of assumptions on the distribution of the data that should lead to less underestimation of the risk\n",
    "        4) Cornish-Fisher VaR (semi-parametric): no assumption needed, the VaR is obtained with an expension based on the quantiles of the gaussance, the kurtosis and the skewness. This expension corrects the biais of the normal gaussian estimation of VaR.\n",
    "  \n",
    "- Hence, investors look also at the distribution beyond VaR with ***CVaR*** (conditional VaR). It is the expected return  \n",
    "given it is lower than VaR:\n",
    "$$ CVaR=-E(R |  R <-VaR) $$"
   ]
  },
  {
   "cell_type": "markdown",
   "metadata": {},
   "source": [
    "## <a id='toc1_3_'></a>[Lab 1 - Deviation from normality](#toc0_)"
   ]
  },
  {
   "cell_type": "code",
   "execution_count": null,
   "metadata": {},
   "outputs": [],
   "source": [
    "import sys\n",
    "sys.path.append(\"/Users/benoitmarion 1/Documents/Python_files\")"
   ]
  },
  {
   "cell_type": "code",
   "execution_count": 3,
   "metadata": {},
   "outputs": [],
   "source": [
    "import pandas as pd\n",
    "import sys\n",
    "import finance_pkg.Edhec_risk_kit as erk"
   ]
  },
  {
   "cell_type": "code",
   "execution_count": 4,
   "metadata": {},
   "outputs": [
    {
     "data": {
      "text/html": [
       "<div>\n",
       "<style scoped>\n",
       "    .dataframe tbody tr th:only-of-type {\n",
       "        vertical-align: middle;\n",
       "    }\n",
       "\n",
       "    .dataframe tbody tr th {\n",
       "        vertical-align: top;\n",
       "    }\n",
       "\n",
       "    .dataframe thead th {\n",
       "        text-align: right;\n",
       "    }\n",
       "</style>\n",
       "<table border=\"1\" class=\"dataframe\">\n",
       "  <thead>\n",
       "    <tr style=\"text-align: right;\">\n",
       "      <th></th>\n",
       "      <th>Convertible Arbitrage</th>\n",
       "      <th>CTA Global</th>\n",
       "      <th>Distressed Securities</th>\n",
       "      <th>Emerging Markets</th>\n",
       "      <th>Equity Market Neutral</th>\n",
       "      <th>Event Driven</th>\n",
       "      <th>Fixed Income Arbitrage</th>\n",
       "      <th>Global Macro</th>\n",
       "      <th>Long/Short Equity</th>\n",
       "      <th>Merger Arbitrage</th>\n",
       "      <th>Relative Value</th>\n",
       "      <th>Short Selling</th>\n",
       "      <th>Funds Of Funds</th>\n",
       "    </tr>\n",
       "    <tr>\n",
       "      <th>date</th>\n",
       "      <th></th>\n",
       "      <th></th>\n",
       "      <th></th>\n",
       "      <th></th>\n",
       "      <th></th>\n",
       "      <th></th>\n",
       "      <th></th>\n",
       "      <th></th>\n",
       "      <th></th>\n",
       "      <th></th>\n",
       "      <th></th>\n",
       "      <th></th>\n",
       "      <th></th>\n",
       "    </tr>\n",
       "  </thead>\n",
       "  <tbody>\n",
       "    <tr>\n",
       "      <th>1997-01</th>\n",
       "      <td>0.0119</td>\n",
       "      <td>0.0393</td>\n",
       "      <td>0.0178</td>\n",
       "      <td>0.0791</td>\n",
       "      <td>0.0189</td>\n",
       "      <td>0.0213</td>\n",
       "      <td>0.0191</td>\n",
       "      <td>0.0573</td>\n",
       "      <td>0.0281</td>\n",
       "      <td>0.0150</td>\n",
       "      <td>0.0180</td>\n",
       "      <td>-0.0166</td>\n",
       "      <td>0.0317</td>\n",
       "    </tr>\n",
       "    <tr>\n",
       "      <th>1997-02</th>\n",
       "      <td>0.0123</td>\n",
       "      <td>0.0298</td>\n",
       "      <td>0.0122</td>\n",
       "      <td>0.0525</td>\n",
       "      <td>0.0101</td>\n",
       "      <td>0.0084</td>\n",
       "      <td>0.0122</td>\n",
       "      <td>0.0175</td>\n",
       "      <td>-0.0006</td>\n",
       "      <td>0.0034</td>\n",
       "      <td>0.0118</td>\n",
       "      <td>0.0426</td>\n",
       "      <td>0.0106</td>\n",
       "    </tr>\n",
       "    <tr>\n",
       "      <th>1997-03</th>\n",
       "      <td>0.0078</td>\n",
       "      <td>-0.0021</td>\n",
       "      <td>-0.0012</td>\n",
       "      <td>-0.0120</td>\n",
       "      <td>0.0016</td>\n",
       "      <td>-0.0023</td>\n",
       "      <td>0.0109</td>\n",
       "      <td>-0.0119</td>\n",
       "      <td>-0.0084</td>\n",
       "      <td>0.0060</td>\n",
       "      <td>0.0010</td>\n",
       "      <td>0.0778</td>\n",
       "      <td>-0.0077</td>\n",
       "    </tr>\n",
       "    <tr>\n",
       "      <th>1997-04</th>\n",
       "      <td>0.0086</td>\n",
       "      <td>-0.0170</td>\n",
       "      <td>0.0030</td>\n",
       "      <td>0.0119</td>\n",
       "      <td>0.0119</td>\n",
       "      <td>-0.0005</td>\n",
       "      <td>0.0130</td>\n",
       "      <td>0.0172</td>\n",
       "      <td>0.0084</td>\n",
       "      <td>-0.0001</td>\n",
       "      <td>0.0122</td>\n",
       "      <td>-0.0129</td>\n",
       "      <td>0.0009</td>\n",
       "    </tr>\n",
       "    <tr>\n",
       "      <th>1997-05</th>\n",
       "      <td>0.0156</td>\n",
       "      <td>-0.0015</td>\n",
       "      <td>0.0233</td>\n",
       "      <td>0.0315</td>\n",
       "      <td>0.0189</td>\n",
       "      <td>0.0346</td>\n",
       "      <td>0.0118</td>\n",
       "      <td>0.0108</td>\n",
       "      <td>0.0394</td>\n",
       "      <td>0.0197</td>\n",
       "      <td>0.0173</td>\n",
       "      <td>-0.0737</td>\n",
       "      <td>0.0275</td>\n",
       "    </tr>\n",
       "  </tbody>\n",
       "</table>\n",
       "</div>"
      ],
      "text/plain": [
       "         Convertible Arbitrage  CTA Global  Distressed Securities  \\\n",
       "date                                                                \n",
       "1997-01                 0.0119      0.0393                 0.0178   \n",
       "1997-02                 0.0123      0.0298                 0.0122   \n",
       "1997-03                 0.0078     -0.0021                -0.0012   \n",
       "1997-04                 0.0086     -0.0170                 0.0030   \n",
       "1997-05                 0.0156     -0.0015                 0.0233   \n",
       "\n",
       "         Emerging Markets  Equity Market Neutral  Event Driven  \\\n",
       "date                                                             \n",
       "1997-01            0.0791                 0.0189        0.0213   \n",
       "1997-02            0.0525                 0.0101        0.0084   \n",
       "1997-03           -0.0120                 0.0016       -0.0023   \n",
       "1997-04            0.0119                 0.0119       -0.0005   \n",
       "1997-05            0.0315                 0.0189        0.0346   \n",
       "\n",
       "         Fixed Income Arbitrage  Global Macro  Long/Short Equity  \\\n",
       "date                                                               \n",
       "1997-01                  0.0191        0.0573             0.0281   \n",
       "1997-02                  0.0122        0.0175            -0.0006   \n",
       "1997-03                  0.0109       -0.0119            -0.0084   \n",
       "1997-04                  0.0130        0.0172             0.0084   \n",
       "1997-05                  0.0118        0.0108             0.0394   \n",
       "\n",
       "         Merger Arbitrage  Relative Value  Short Selling  Funds Of Funds  \n",
       "date                                                                      \n",
       "1997-01            0.0150          0.0180        -0.0166          0.0317  \n",
       "1997-02            0.0034          0.0118         0.0426          0.0106  \n",
       "1997-03            0.0060          0.0010         0.0778         -0.0077  \n",
       "1997-04           -0.0001          0.0122        -0.0129          0.0009  \n",
       "1997-05            0.0197          0.0173        -0.0737          0.0275  "
      ]
     },
     "execution_count": 4,
     "metadata": {},
     "output_type": "execute_result"
    }
   ],
   "source": [
    "hfi=erk.get_hfi_returns() ## function to get a dataset of hedge fun record made by edhec\n",
    "hfi.head()"
   ]
  },
  {
   "cell_type": "markdown",
   "metadata": {},
   "source": [
    "#### <a id='toc1_3_1_1_'></a>[A first glance at skewness](#toc0_)\n",
    "With the mean and the median of a serie we can have a first glance at wether the distribution might be skewed or not."
   ]
  },
  {
   "cell_type": "code",
   "execution_count": 3,
   "metadata": {},
   "outputs": [
    {
     "data": {
      "text/html": [
       "<div>\n",
       "<style scoped>\n",
       "    .dataframe tbody tr th:only-of-type {\n",
       "        vertical-align: middle;\n",
       "    }\n",
       "\n",
       "    .dataframe tbody tr th {\n",
       "        vertical-align: top;\n",
       "    }\n",
       "\n",
       "    .dataframe thead th {\n",
       "        text-align: right;\n",
       "    }\n",
       "</style>\n",
       "<table border=\"1\" class=\"dataframe\">\n",
       "  <thead>\n",
       "    <tr style=\"text-align: right;\">\n",
       "      <th></th>\n",
       "      <th>0</th>\n",
       "      <th>1</th>\n",
       "      <th>2</th>\n",
       "    </tr>\n",
       "  </thead>\n",
       "  <tbody>\n",
       "    <tr>\n",
       "      <th>Convertible Arbitrage</th>\n",
       "      <td>0.005781</td>\n",
       "      <td>0.00650</td>\n",
       "      <td>False</td>\n",
       "    </tr>\n",
       "    <tr>\n",
       "      <th>CTA Global</th>\n",
       "      <td>0.004284</td>\n",
       "      <td>0.00190</td>\n",
       "      <td>True</td>\n",
       "    </tr>\n",
       "    <tr>\n",
       "      <th>Distressed Securities</th>\n",
       "      <td>0.006837</td>\n",
       "      <td>0.00880</td>\n",
       "      <td>False</td>\n",
       "    </tr>\n",
       "    <tr>\n",
       "      <th>Emerging Markets</th>\n",
       "      <td>0.006740</td>\n",
       "      <td>0.00985</td>\n",
       "      <td>False</td>\n",
       "    </tr>\n",
       "    <tr>\n",
       "      <th>Equity Market Neutral</th>\n",
       "      <td>0.004330</td>\n",
       "      <td>0.00465</td>\n",
       "      <td>False</td>\n",
       "    </tr>\n",
       "    <tr>\n",
       "      <th>Event Driven</th>\n",
       "      <td>0.006660</td>\n",
       "      <td>0.00875</td>\n",
       "      <td>False</td>\n",
       "    </tr>\n",
       "    <tr>\n",
       "      <th>Fixed Income Arbitrage</th>\n",
       "      <td>0.004404</td>\n",
       "      <td>0.00550</td>\n",
       "      <td>False</td>\n",
       "    </tr>\n",
       "    <tr>\n",
       "      <th>Global Macro</th>\n",
       "      <td>0.005539</td>\n",
       "      <td>0.00465</td>\n",
       "      <td>True</td>\n",
       "    </tr>\n",
       "    <tr>\n",
       "      <th>Long/Short Equity</th>\n",
       "      <td>0.006700</td>\n",
       "      <td>0.00815</td>\n",
       "      <td>False</td>\n",
       "    </tr>\n",
       "    <tr>\n",
       "      <th>Merger Arbitrage</th>\n",
       "      <td>0.005569</td>\n",
       "      <td>0.00590</td>\n",
       "      <td>False</td>\n",
       "    </tr>\n",
       "    <tr>\n",
       "      <th>Relative Value</th>\n",
       "      <td>0.005721</td>\n",
       "      <td>0.00665</td>\n",
       "      <td>False</td>\n",
       "    </tr>\n",
       "    <tr>\n",
       "      <th>Short Selling</th>\n",
       "      <td>-0.001168</td>\n",
       "      <td>-0.00350</td>\n",
       "      <td>True</td>\n",
       "    </tr>\n",
       "    <tr>\n",
       "      <th>Funds Of Funds</th>\n",
       "      <td>0.004508</td>\n",
       "      <td>0.00520</td>\n",
       "      <td>False</td>\n",
       "    </tr>\n",
       "  </tbody>\n",
       "</table>\n",
       "</div>"
      ],
      "text/plain": [
       "                               0        1      2\n",
       "Convertible Arbitrage   0.005781  0.00650  False\n",
       "CTA Global              0.004284  0.00190   True\n",
       "Distressed Securities   0.006837  0.00880  False\n",
       "Emerging Markets        0.006740  0.00985  False\n",
       "Equity Market Neutral   0.004330  0.00465  False\n",
       "Event Driven            0.006660  0.00875  False\n",
       "Fixed Income Arbitrage  0.004404  0.00550  False\n",
       "Global Macro            0.005539  0.00465   True\n",
       "Long/Short Equity       0.006700  0.00815  False\n",
       "Merger Arbitrage        0.005569  0.00590  False\n",
       "Relative Value          0.005721  0.00665  False\n",
       "Short Selling          -0.001168 -0.00350   True\n",
       "Funds Of Funds          0.004508  0.00520  False"
      ]
     },
     "execution_count": 3,
     "metadata": {},
     "output_type": "execute_result"
    }
   ],
   "source": [
    "pd.concat([hfi.mean(), hfi.median(), hfi.mean()>hfi.median()], axis=\"columns\")"
   ]
  },
  {
   "cell_type": "markdown",
   "metadata": {},
   "source": [
    "#### <a id='toc1_3_1_2_'></a>[Skewness](#toc0_)\n",
    "We can calculate skewness with a function of our own module or with the scipy function. It gives the same results:"
   ]
  },
  {
   "cell_type": "code",
   "execution_count": 4,
   "metadata": {},
   "outputs": [
    {
     "data": {
      "text/plain": [
       "Convertible Arbitrage    -2.598859\n",
       "CTA Global                0.167094\n",
       "Distressed Securities    -1.732838\n",
       "Emerging Markets         -1.223409\n",
       "Equity Market Neutral    -1.918140\n",
       "Event Driven             -1.881176\n",
       "Fixed Income Arbitrage   -3.784087\n",
       "Global Macro              0.884331\n",
       "Long/Short Equity        -0.468476\n",
       "Merger Arbitrage         -1.620384\n",
       "Relative Value           -2.079472\n",
       "Short Selling             0.758959\n",
       "Funds Of Funds           -0.597301\n",
       "dtype: float64"
      ]
     },
     "execution_count": 4,
     "metadata": {},
     "output_type": "execute_result"
    }
   ],
   "source": [
    "erk.skewness(hfi)"
   ]
  },
  {
   "cell_type": "code",
   "execution_count": 5,
   "metadata": {},
   "outputs": [
    {
     "data": {
      "text/plain": [
       "array([-2.5988594 ,  0.16709409, -1.73283848, -1.22340855, -1.91814041,\n",
       "       -1.88117628, -3.78408679,  0.88433107, -0.46847577, -1.62038409,\n",
       "       -2.07947152,         nan, -0.59730067])"
      ]
     },
     "execution_count": 5,
     "metadata": {},
     "output_type": "execute_result"
    }
   ],
   "source": [
    "import scipy.stats\n",
    "scipy.stats.skew(hfi)"
   ]
  },
  {
   "attachments": {},
   "cell_type": "markdown",
   "metadata": {},
   "source": [
    "The values seem very high. To highlight the difference in term of skewness with normal data we simulate data:"
   ]
  },
  {
   "cell_type": "code",
   "execution_count": 5,
   "metadata": {},
   "outputs": [
    {
     "data": {
      "text/plain": [
       "0.062143906818375165"
      ]
     },
     "execution_count": 5,
     "metadata": {},
     "output_type": "execute_result"
    }
   ],
   "source": [
    "import numpy as np\n",
    "normal_rets=np.random.normal(0,.15,size=hfi.shape[0])\n",
    "erk.skewness(normal_rets)"
   ]
  },
  {
   "cell_type": "markdown",
   "metadata": {},
   "source": [
    "#### <a id='toc1_3_1_3_'></a>[Kurtosis](#toc0_)\n",
    "The kurtosis of our data is mostly way over 3 which is the normal value."
   ]
  },
  {
   "cell_type": "code",
   "execution_count": 9,
   "metadata": {},
   "outputs": [
    {
     "data": {
      "text/plain": [
       "Convertible Arbitrage     21.661630\n",
       "CTA Global                 2.999865\n",
       "Distressed Securities     10.833276\n",
       "Emerging Markets           9.044334\n",
       "Equity Market Neutral     15.469866\n",
       "Event Driven              13.308981\n",
       "Fixed Income Arbitrage    28.476464\n",
       "Global Macro               5.474004\n",
       "Long/Short Equity          4.916137\n",
       "Merger Arbitrage          15.806243\n",
       "Relative Value            13.196580\n",
       "Short Selling              6.461034\n",
       "Funds Of Funds             7.420199\n",
       "dtype: float64"
      ]
     },
     "execution_count": 9,
     "metadata": {},
     "output_type": "execute_result"
    }
   ],
   "source": [
    "erk.kurtosis(hfi)"
   ]
  },
  {
   "attachments": {},
   "cell_type": "markdown",
   "metadata": {},
   "source": [
    "Whereas for the generated data, the kurtosis is close to 3."
   ]
  },
  {
   "cell_type": "code",
   "execution_count": 13,
   "metadata": {},
   "outputs": [
    {
     "data": {
      "text/plain": [
       "2.8821481897434156"
      ]
     },
     "execution_count": 13,
     "metadata": {},
     "output_type": "execute_result"
    }
   ],
   "source": [
    "erk.kurtosis(normal_rets)"
   ]
  },
  {
   "attachments": {},
   "cell_type": "markdown",
   "metadata": {},
   "source": [
    "The scipy command gives the excess kurtosis (compared to 3), so we need to care."
   ]
  },
  {
   "cell_type": "code",
   "execution_count": 15,
   "metadata": {},
   "outputs": [
    {
     "data": {
      "text/plain": [
       "2.8821481897434147"
      ]
     },
     "execution_count": 15,
     "metadata": {},
     "output_type": "execute_result"
    }
   ],
   "source": [
    "scipy.stats.kurtosis(normal_rets)"
   ]
  },
  {
   "cell_type": "markdown",
   "metadata": {},
   "source": [
    "#### <a id='toc1_3_1_4_'></a>[Jarque-Bera test](#toc0_)\n",
    "We can compute the test with a function of scipy but i we give it a df it take the whole df as a Series."
   ]
  },
  {
   "cell_type": "code",
   "execution_count": 16,
   "metadata": {},
   "outputs": [
    {
     "data": {
      "text/plain": [
       "SignificanceResult(statistic=1.0622902593383592, pvalue=0.5879313264421916)"
      ]
     },
     "execution_count": 16,
     "metadata": {},
     "output_type": "execute_result"
    }
   ],
   "source": [
    "scipy.stats.jarque_bera(normal_rets)"
   ]
  },
  {
   "attachments": {},
   "cell_type": "markdown",
   "metadata": {},
   "source": [
    "So we created the is_normal function to be able to vectorize for each column."
   ]
  },
  {
   "cell_type": "code",
   "execution_count": 6,
   "metadata": {},
   "outputs": [
    {
     "data": {
      "text/plain": [
       "True"
      ]
     },
     "execution_count": 6,
     "metadata": {},
     "output_type": "execute_result"
    }
   ],
   "source": [
    "erk.is_normal(normal_rets)"
   ]
  },
  {
   "cell_type": "code",
   "execution_count": 7,
   "metadata": {},
   "outputs": [
    {
     "data": {
      "text/plain": [
       "Convertible Arbitrage     False\n",
       "CTA Global                 True\n",
       "Distressed Securities     False\n",
       "Emerging Markets          False\n",
       "Equity Market Neutral     False\n",
       "Event Driven              False\n",
       "Fixed Income Arbitrage    False\n",
       "Global Macro              False\n",
       "Long/Short Equity         False\n",
       "Merger Arbitrage          False\n",
       "Relative Value            False\n",
       "Short Selling             False\n",
       "Funds Of Funds            False\n",
       "dtype: bool"
      ]
     },
     "execution_count": 7,
     "metadata": {},
     "output_type": "execute_result"
    }
   ],
   "source": [
    "hfi.aggregate(erk.is_normal)"
   ]
  },
  {
   "cell_type": "markdown",
   "metadata": {},
   "source": [
    "## <a id='toc1_4_'></a>[Lab 2 - Downside risk measures](#toc0_)"
   ]
  },
  {
   "cell_type": "code",
   "execution_count": null,
   "metadata": {},
   "outputs": [],
   "source": [
    "import sys\n",
    "sys.path.append(\"/Users/benoitmarion 1/Documents/Python_files\")"
   ]
  },
  {
   "cell_type": "code",
   "execution_count": 14,
   "metadata": {},
   "outputs": [
    {
     "name": "stdout",
     "output_type": "stream",
     "text": [
      "The autoreload extension is already loaded. To reload it, use:\n",
      "  %reload_ext autoreload\n"
     ]
    }
   ],
   "source": [
    "import pandas as pd\n",
    "import finance_pkg.Edhec_risk_kit as erk"
   ]
  },
  {
   "cell_type": "code",
   "execution_count": 49,
   "metadata": {},
   "outputs": [],
   "source": [
    "hfi=erk.get_hfi_returns()"
   ]
  },
  {
   "cell_type": "markdown",
   "metadata": {},
   "source": [
    "#### <a id='toc1_4_1_1_'></a>[Semi-deviation](#toc0_)\n",
    "We compute it the same way as a deviation, but exluding the positive values."
   ]
  },
  {
   "cell_type": "code",
   "execution_count": 20,
   "metadata": {},
   "outputs": [
    {
     "data": {
      "text/plain": [
       "Convertible Arbitrage     0.016706\n",
       "CTA Global                0.022718\n",
       "Distressed Securities     0.018084\n",
       "Emerging Markets          0.032599\n",
       "Equity Market Neutral     0.008181\n",
       "Event Driven              0.019008\n",
       "Fixed Income Arbitrage    0.011427\n",
       "Global Macro              0.014609\n",
       "Long/Short Equity         0.020834\n",
       "Merger Arbitrage          0.011441\n",
       "Relative Value            0.011829\n",
       "Short Selling             0.045944\n",
       "Funds Of Funds            0.016030\n",
       "dtype: float64"
      ]
     },
     "execution_count": 20,
     "metadata": {},
     "output_type": "execute_result"
    }
   ],
   "source": [
    "hfi.std(ddof=0)"
   ]
  },
  {
   "cell_type": "code",
   "execution_count": 22,
   "metadata": {},
   "outputs": [
    {
     "data": {
      "text/plain": [
       "pandas.core.series.Series"
      ]
     },
     "execution_count": 22,
     "metadata": {},
     "output_type": "execute_result"
    }
   ],
   "source": [
    "hfi[hfi<0].std(ddof=0)"
   ]
  },
  {
   "attachments": {},
   "cell_type": "markdown",
   "metadata": {},
   "source": [
    "We created a function to compute in an easier way."
   ]
  },
  {
   "cell_type": "code",
   "execution_count": 23,
   "metadata": {},
   "outputs": [
    {
     "data": {
      "text/plain": [
       "Convertible Arbitrage     0.020130\n",
       "CTA Global                0.012199\n",
       "Distressed Securities     0.017574\n",
       "Emerging Markets          0.028596\n",
       "Equity Market Neutral     0.009266\n",
       "Event Driven              0.019643\n",
       "Fixed Income Arbitrage    0.017645\n",
       "Global Macro              0.006666\n",
       "Long/Short Equity         0.015275\n",
       "Merger Arbitrage          0.012358\n",
       "Relative Value            0.013551\n",
       "Short Selling             0.027030\n",
       "Funds Of Funds            0.013161\n",
       "dtype: float64"
      ]
     },
     "execution_count": 23,
     "metadata": {},
     "output_type": "execute_result"
    }
   ],
   "source": [
    "erk.semideviation(hfi)"
   ]
  },
  {
   "cell_type": "markdown",
   "metadata": {},
   "source": [
    "#### <a id='toc1_4_1_2_'></a>[VaR](#toc0_)"
   ]
  },
  {
   "cell_type": "markdown",
   "metadata": {},
   "source": [
    "##### <a id='toc1_4_1_2_1_'></a>[Historic VaR](#toc0_)\n",
    "We just have to exclude the threshold and keep the worst return of the dataset. It's easy to with numpy."
   ]
  },
  {
   "cell_type": "code",
   "execution_count": 25,
   "metadata": {},
   "outputs": [],
   "source": [
    "import numpy as np"
   ]
  },
  {
   "cell_type": "code",
   "execution_count": 26,
   "metadata": {},
   "outputs": [
    {
     "data": {
      "text/plain": [
       "array([-0.01499 , -0.03147 , -0.01977 , -0.042305, -0.00834 , -0.025505,\n",
       "       -0.007155, -0.014935, -0.026205, -0.01064 , -0.01141 ,       nan,\n",
       "       -0.020305])"
      ]
     },
     "execution_count": 26,
     "metadata": {},
     "output_type": "execute_result"
    }
   ],
   "source": [
    "np.percentile(hfi, 5, axis=0)"
   ]
  },
  {
   "attachments": {},
   "cell_type": "markdown",
   "metadata": {},
   "source": [
    "To have a nicer output we created a function that gives us the result nicely for a certain lvl of confidence."
   ]
  },
  {
   "cell_type": "code",
   "execution_count": 52,
   "metadata": {},
   "outputs": [
    {
     "data": {
      "text/plain": [
       "Convertible Arbitrage     0.014990\n",
       "CTA Global                0.031470\n",
       "Distressed Securities     0.019770\n",
       "Emerging Markets          0.042305\n",
       "Equity Market Neutral     0.008340\n",
       "Event Driven              0.025505\n",
       "Fixed Income Arbitrage    0.007155\n",
       "Global Macro              0.014935\n",
       "Long/Short Equity         0.026205\n",
       "Merger Arbitrage          0.010640\n",
       "Relative Value            0.011410\n",
       "Short Selling             0.066990\n",
       "Funds Of Funds            0.020305\n",
       "dtype: float64"
      ]
     },
     "execution_count": 52,
     "metadata": {},
     "output_type": "execute_result"
    }
   ],
   "source": [
    "erk.var_historic(hfi)"
   ]
  },
  {
   "cell_type": "markdown",
   "metadata": {},
   "source": [
    "##### <a id='toc1_4_1_2_2_'></a>[Paramtric VaR - Gaussian](#toc0_)"
   ]
  },
  {
   "cell_type": "code",
   "execution_count": 30,
   "metadata": {},
   "outputs": [],
   "source": [
    "from scipy.stats import norm"
   ]
  },
  {
   "attachments": {},
   "cell_type": "markdown",
   "metadata": {},
   "source": [
    "It is simply the quartile of the normal distribution for our parameters (mean and standard-deviation). So we compute the linear combination of these elements."
   ]
  },
  {
   "cell_type": "code",
   "execution_count": 41,
   "metadata": {},
   "outputs": [
    {
     "data": {
      "text/plain": [
       "Convertible Arbitrage     0.021699\n",
       "CTA Global                0.033084\n",
       "Distressed Securities     0.022909\n",
       "Emerging Markets          0.046880\n",
       "Equity Market Neutral     0.009127\n",
       "Event Driven              0.024606\n",
       "Fixed Income Arbitrage    0.014391\n",
       "Global Macro              0.018491\n",
       "Long/Short Equity         0.027569\n",
       "Merger Arbitrage          0.013250\n",
       "Relative Value            0.013735\n",
       "Short Selling             0.076739\n",
       "Funds Of Funds            0.021859\n",
       "dtype: float64"
      ]
     },
     "execution_count": 41,
     "metadata": {},
     "output_type": "execute_result"
    }
   ],
   "source": [
    "z=norm.ppf(0.05)\n",
    "-(hfi.mean()+z*hfi.std(ddof=0))"
   ]
  },
  {
   "attachments": {},
   "cell_type": "markdown",
   "metadata": {},
   "source": [
    "We built a fonction to get this value in a simpler way."
   ]
  },
  {
   "cell_type": "code",
   "execution_count": 44,
   "metadata": {},
   "outputs": [
    {
     "data": {
      "text/plain": [
       "Convertible Arbitrage     0.021699\n",
       "CTA Global                0.033084\n",
       "Distressed Securities     0.022909\n",
       "Emerging Markets          0.046880\n",
       "Equity Market Neutral     0.009127\n",
       "Event Driven              0.024606\n",
       "Fixed Income Arbitrage    0.014391\n",
       "Global Macro              0.018491\n",
       "Long/Short Equity         0.027569\n",
       "Merger Arbitrage          0.013250\n",
       "Relative Value            0.013735\n",
       "Short Selling             0.076739\n",
       "Funds Of Funds            0.021859\n",
       "dtype: float64"
      ]
     },
     "execution_count": 44,
     "metadata": {},
     "output_type": "execute_result"
    }
   ],
   "source": [
    "erk.var_gaussian(hfi)"
   ]
  },
  {
   "cell_type": "markdown",
   "metadata": {},
   "source": [
    "##### <a id='toc1_4_1_2_3_'></a>[Modified Cornish-Fisher VaR](#toc0_)"
   ]
  },
  {
   "attachments": {},
   "cell_type": "markdown",
   "metadata": {},
   "source": [
    "In the risk kit we added the function to get the modified VaR (semi-parametric). It's just a tranformation of the z-score we had before."
   ]
  },
  {
   "cell_type": "code",
   "execution_count": 45,
   "metadata": {},
   "outputs": [
    {
     "data": {
      "text/plain": [
       "Convertible Arbitrage     0.025629\n",
       "CTA Global                0.031993\n",
       "Distressed Securities     0.027938\n",
       "Emerging Markets          0.053324\n",
       "Equity Market Neutral     0.010964\n",
       "Event Driven              0.029553\n",
       "Fixed Income Arbitrage    0.017734\n",
       "Global Macro              0.013874\n",
       "Long/Short Equity         0.029451\n",
       "Merger Arbitrage          0.014998\n",
       "Relative Value            0.017332\n",
       "Short Selling             0.063121\n",
       "Funds Of Funds            0.023043\n",
       "dtype: float64"
      ]
     },
     "execution_count": 45,
     "metadata": {},
     "output_type": "execute_result"
    }
   ],
   "source": [
    "erk.var_cornish_fisher(hfi)"
   ]
  },
  {
   "cell_type": "markdown",
   "metadata": {},
   "source": [
    "##### <a id='toc1_4_1_2_4_'></a>[Summing-up the different VaRs](#toc0_)"
   ]
  },
  {
   "cell_type": "code",
   "execution_count": 53,
   "metadata": {},
   "outputs": [
    {
     "data": {
      "text/plain": [
       "<AxesSubplot: title={'center': 'EDHEC hedge fund indexes VaR'}>"
      ]
     },
     "execution_count": 53,
     "metadata": {},
     "output_type": "execute_result"
    },
    {
     "data": {
      "image/png": "[encoded data removed]",
      "text/plain": [
       "<Figure size 640x480 with 1 Axes>"
      ]
     },
     "metadata": {},
     "output_type": "display_data"
    }
   ],
   "source": [
    "var_list=[erk.var_gaussian(hfi),erk.var_cornish_fisher(hfi),erk.var_historic(hfi)]\n",
    "comparison=pd.concat(var_list,axis=1)\n",
    "comparison.columns=[\"Gaussian\",\"Cornish-Fisher\",\"Historic\"]\n",
    "comparison.plot.bar(title=\"EDHEC hedge fund indexes VaR\")"
   ]
  },
  {
   "cell_type": "markdown",
   "metadata": {},
   "source": [
    "#### <a id='toc1_4_1_3_'></a>[Beyond VaR: CVaR](#toc0_)"
   ]
  },
  {
   "attachments": {},
   "cell_type": "markdown",
   "metadata": {},
   "source": [
    "CVaR gives us insight about the worst scenario under the treshold, it shows what might happen if the investor is unlucky and gets very bad returns."
   ]
  },
  {
   "cell_type": "code",
   "execution_count": 54,
   "metadata": {},
   "outputs": [
    {
     "data": {
      "text/plain": [
       "Convertible Arbitrage     0.038780\n",
       "CTA Global                0.040620\n",
       "Distressed Securities     0.041320\n",
       "Emerging Markets          0.075447\n",
       "Equity Market Neutral     0.017520\n",
       "Event Driven              0.044453\n",
       "Fixed Income Arbitrage    0.029067\n",
       "Global Macro              0.021093\n",
       "Long/Short Equity         0.044813\n",
       "Merger Arbitrage          0.023333\n",
       "Relative Value            0.027127\n",
       "Short Selling             0.094847\n",
       "Funds Of Funds            0.035693\n",
       "dtype: float64"
      ]
     },
     "execution_count": 54,
     "metadata": {},
     "output_type": "execute_result"
    }
   ],
   "source": [
    "erk.cvar_historic(hfi)"
   ]
  },
  {
   "attachments": {},
   "cell_type": "markdown",
   "metadata": {},
   "source": [
    "These results are more or less the mean of the worst cases in the historical data."
   ]
  }
 ],
 "metadata": {
  "kernelspec": {
   "display_name": "Python 3",
   "language": "python",
   "name": "python3"
  },
  "language_info": {
   "codemirror_mode": {
    "name": "ipython",
    "version": 3
   },
   "file_extension": ".py",
   "mimetype": "text/x-python",
   "name": "python",
   "nbconvert_exporter": "python",
   "pygments_lexer": "ipython3",
   "version": "3.11.1"
  },
  "orig_nbformat": 4,
  "vscode": {
   "interpreter": {
    "hash": "aee8b7b246df8f9039afb4144a1f6fd8d2ca17a180786b69acc140d282b71a49"
   }
  }
 },
 "nbformat": 4,
 "nbformat_minor": 2
}
