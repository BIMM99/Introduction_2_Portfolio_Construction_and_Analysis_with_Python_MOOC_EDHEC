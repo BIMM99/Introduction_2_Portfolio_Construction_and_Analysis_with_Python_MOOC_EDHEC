{
 "cells": [
  {
   "attachments": {},
   "cell_type": "markdown",
   "metadata": {},
   "source": [
    "# Extra. Building modules in Python"
   ]
  },
  {
   "attachments": {},
   "cell_type": "markdown",
   "metadata": {},
   "source": [
    "#### Import in Python\n",
    "When one import a module, he just imports a file where there is Python code in it. He tells Python to access to its content, variables, methods, objects and functions. One can import a simple python file he wrote himself if the path is accessible to Python (which normally is)."
   ]
  },
  {
   "cell_type": "code",
   "execution_count": 1,
   "metadata": {},
   "outputs": [],
   "source": [
    "import pandas as pd\n",
    "import pandas as pd"
   ]
  },
  {
   "attachments": {},
   "cell_type": "markdown",
   "metadata": {},
   "source": [
    "#### Changing an imported file\n",
    "This command has imported the thousand lines of code of pandas a kept the names and their contents. If we repeat it, Python is smart so he ignores it as he knows he just did it. \n",
    "  \n",
    "However it can be useful sometimes to force importation (you modified your file to import...), to do so we use \"magic commands\" which are not Python (start with % for instance). The following commands should be used to do so"
   ]
  },
  {
   "cell_type": "code",
   "execution_count": 5,
   "metadata": {},
   "outputs": [
    {
     "name": "stderr",
     "output_type": "stream",
     "text": [
      "UsageError: Line magic function `%load_ex` not found.\n"
     ]
    }
   ],
   "source": [
    "### %load_ex autoreaload\n",
    "### %autoreload 2"
   ]
  },
  {
   "attachments": {},
   "cell_type": "markdown",
   "metadata": {},
   "source": [
    "#### Getting the script with our functions\n",
    "In our case, we have already created some functions to get drawdowns and import our historical data for large and small cap. We save those in a Python file so we can import them here."
   ]
  },
  {
   "cell_type": "code",
   "execution_count": 4,
   "metadata": {},
   "outputs": [
    {
     "name": "stdout",
     "output_type": "stream",
     "text": [
      "-0.8330007793945303 1932-05\n"
     ]
    }
   ],
   "source": [
    "import Edhec_risk_kit as erk\n",
    "\n",
    "returns=erk.get_ffme_returns()\n",
    "\n",
    "print(erk.drawdowns(returns[\"SmallCap\"])[\"drawdowns\"].min(),erk.drawdowns(returns[\"SmallCap\"])[\"drawdowns\"].idxmin())"
   ]
  },
  {
   "attachments": {},
   "cell_type": "markdown",
   "metadata": {},
   "source": [
    "This toolkit will get new functionnalities along the course and the labs."
   ]
  }
 ],
 "metadata": {
  "kernelspec": {
   "display_name": "Python 3",
   "language": "python",
   "name": "python3"
  },
  "language_info": {
   "codemirror_mode": {
    "name": "ipython",
    "version": 3
   },
   "file_extension": ".py",
   "mimetype": "text/x-python",
   "name": "python",
   "nbconvert_exporter": "python",
   "pygments_lexer": "ipython3",
   "version": "3.11.1"
  },
  "orig_nbformat": 4,
  "vscode": {
   "interpreter": {
    "hash": "aee8b7b246df8f9039afb4144a1f6fd8d2ca17a180786b69acc140d282b71a49"
   }
  }
 },
 "nbformat": 4,
 "nbformat_minor": 2
}
